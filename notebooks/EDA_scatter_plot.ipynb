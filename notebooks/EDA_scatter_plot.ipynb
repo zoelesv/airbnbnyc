{
 "cells": [
  {
   "cell_type": "code",
   "execution_count": 464,
   "metadata": {},
   "outputs": [
    {
     "name": "stderr",
     "output_type": "stream",
     "text": [
      "/var/folders/8q/jzwt9rrs4bz6txvcy6scnyn80000gn/T/ipykernel_80388/485946608.py:8: DtypeWarning:\n",
      "\n",
      "Columns (25) have mixed types. Specify dtype option on import or set low_memory=False.\n",
      "\n"
     ]
    },
    {
     "data": {
      "text/html": [
       "<div>\n",
       "<style scoped>\n",
       "    .dataframe tbody tr th:only-of-type {\n",
       "        vertical-align: middle;\n",
       "    }\n",
       "\n",
       "    .dataframe tbody tr th {\n",
       "        vertical-align: top;\n",
       "    }\n",
       "\n",
       "    .dataframe thead th {\n",
       "        text-align: right;\n",
       "    }\n",
       "</style>\n",
       "<table border=\"1\" class=\"dataframe\">\n",
       "  <thead>\n",
       "    <tr style=\"text-align: right;\">\n",
       "      <th></th>\n",
       "      <th>id</th>\n",
       "      <th>NAME</th>\n",
       "      <th>host id</th>\n",
       "      <th>host_identity_verified</th>\n",
       "      <th>host name</th>\n",
       "      <th>neighbourhood group</th>\n",
       "      <th>neighbourhood</th>\n",
       "      <th>lat</th>\n",
       "      <th>long</th>\n",
       "      <th>country</th>\n",
       "      <th>...</th>\n",
       "      <th>service fee</th>\n",
       "      <th>minimum nights</th>\n",
       "      <th>number of reviews</th>\n",
       "      <th>last review</th>\n",
       "      <th>reviews per month</th>\n",
       "      <th>review rate number</th>\n",
       "      <th>calculated host listings count</th>\n",
       "      <th>availability 365</th>\n",
       "      <th>house_rules</th>\n",
       "      <th>license</th>\n",
       "    </tr>\n",
       "  </thead>\n",
       "  <tbody>\n",
       "    <tr>\n",
       "      <th>0</th>\n",
       "      <td>1001254</td>\n",
       "      <td>Clean &amp; quiet apt home by the park</td>\n",
       "      <td>80014485718</td>\n",
       "      <td>unconfirmed</td>\n",
       "      <td>Madaline</td>\n",
       "      <td>Brooklyn</td>\n",
       "      <td>Kensington</td>\n",
       "      <td>40.64749</td>\n",
       "      <td>-73.97237</td>\n",
       "      <td>United States</td>\n",
       "      <td>...</td>\n",
       "      <td>$193</td>\n",
       "      <td>10.0</td>\n",
       "      <td>9.0</td>\n",
       "      <td>10/19/2021</td>\n",
       "      <td>0.21</td>\n",
       "      <td>4.0</td>\n",
       "      <td>6.0</td>\n",
       "      <td>286.0</td>\n",
       "      <td>Clean up and treat the home the way you'd like...</td>\n",
       "      <td>NaN</td>\n",
       "    </tr>\n",
       "    <tr>\n",
       "      <th>1</th>\n",
       "      <td>1002102</td>\n",
       "      <td>Skylit Midtown Castle</td>\n",
       "      <td>52335172823</td>\n",
       "      <td>verified</td>\n",
       "      <td>Jenna</td>\n",
       "      <td>Manhattan</td>\n",
       "      <td>Midtown</td>\n",
       "      <td>40.75362</td>\n",
       "      <td>-73.98377</td>\n",
       "      <td>United States</td>\n",
       "      <td>...</td>\n",
       "      <td>$28</td>\n",
       "      <td>30.0</td>\n",
       "      <td>45.0</td>\n",
       "      <td>5/21/2022</td>\n",
       "      <td>0.38</td>\n",
       "      <td>4.0</td>\n",
       "      <td>2.0</td>\n",
       "      <td>228.0</td>\n",
       "      <td>Pet friendly but please confirm with me if the...</td>\n",
       "      <td>NaN</td>\n",
       "    </tr>\n",
       "    <tr>\n",
       "      <th>2</th>\n",
       "      <td>1002403</td>\n",
       "      <td>THE VILLAGE OF HARLEM....NEW YORK !</td>\n",
       "      <td>78829239556</td>\n",
       "      <td>NaN</td>\n",
       "      <td>Elise</td>\n",
       "      <td>Manhattan</td>\n",
       "      <td>Harlem</td>\n",
       "      <td>40.80902</td>\n",
       "      <td>-73.94190</td>\n",
       "      <td>United States</td>\n",
       "      <td>...</td>\n",
       "      <td>$124</td>\n",
       "      <td>3.0</td>\n",
       "      <td>0.0</td>\n",
       "      <td>NaN</td>\n",
       "      <td>NaN</td>\n",
       "      <td>5.0</td>\n",
       "      <td>1.0</td>\n",
       "      <td>352.0</td>\n",
       "      <td>I encourage you to use my kitchen, cooking and...</td>\n",
       "      <td>NaN</td>\n",
       "    </tr>\n",
       "    <tr>\n",
       "      <th>3</th>\n",
       "      <td>1002755</td>\n",
       "      <td>NaN</td>\n",
       "      <td>85098326012</td>\n",
       "      <td>unconfirmed</td>\n",
       "      <td>Garry</td>\n",
       "      <td>Brooklyn</td>\n",
       "      <td>Clinton Hill</td>\n",
       "      <td>40.68514</td>\n",
       "      <td>-73.95976</td>\n",
       "      <td>United States</td>\n",
       "      <td>...</td>\n",
       "      <td>$74</td>\n",
       "      <td>30.0</td>\n",
       "      <td>270.0</td>\n",
       "      <td>7/5/2019</td>\n",
       "      <td>4.64</td>\n",
       "      <td>4.0</td>\n",
       "      <td>1.0</td>\n",
       "      <td>322.0</td>\n",
       "      <td>NaN</td>\n",
       "      <td>NaN</td>\n",
       "    </tr>\n",
       "    <tr>\n",
       "      <th>4</th>\n",
       "      <td>1003689</td>\n",
       "      <td>Entire Apt: Spacious Studio/Loft by central park</td>\n",
       "      <td>92037596077</td>\n",
       "      <td>verified</td>\n",
       "      <td>Lyndon</td>\n",
       "      <td>Manhattan</td>\n",
       "      <td>East Harlem</td>\n",
       "      <td>40.79851</td>\n",
       "      <td>-73.94399</td>\n",
       "      <td>United States</td>\n",
       "      <td>...</td>\n",
       "      <td>$41</td>\n",
       "      <td>10.0</td>\n",
       "      <td>9.0</td>\n",
       "      <td>11/19/2018</td>\n",
       "      <td>0.10</td>\n",
       "      <td>3.0</td>\n",
       "      <td>1.0</td>\n",
       "      <td>289.0</td>\n",
       "      <td>Please no smoking in the house, porch or on th...</td>\n",
       "      <td>NaN</td>\n",
       "    </tr>\n",
       "  </tbody>\n",
       "</table>\n",
       "<p>5 rows × 26 columns</p>\n",
       "</div>"
      ],
      "text/plain": [
       "        id                                              NAME      host id  \\\n",
       "0  1001254                Clean & quiet apt home by the park  80014485718   \n",
       "1  1002102                             Skylit Midtown Castle  52335172823   \n",
       "2  1002403               THE VILLAGE OF HARLEM....NEW YORK !  78829239556   \n",
       "3  1002755                                               NaN  85098326012   \n",
       "4  1003689  Entire Apt: Spacious Studio/Loft by central park  92037596077   \n",
       "\n",
       "  host_identity_verified host name neighbourhood group neighbourhood  \\\n",
       "0            unconfirmed  Madaline            Brooklyn    Kensington   \n",
       "1               verified     Jenna           Manhattan       Midtown   \n",
       "2                    NaN     Elise           Manhattan        Harlem   \n",
       "3            unconfirmed     Garry            Brooklyn  Clinton Hill   \n",
       "4               verified    Lyndon           Manhattan   East Harlem   \n",
       "\n",
       "        lat      long        country  ... service fee minimum nights  \\\n",
       "0  40.64749 -73.97237  United States  ...       $193            10.0   \n",
       "1  40.75362 -73.98377  United States  ...        $28            30.0   \n",
       "2  40.80902 -73.94190  United States  ...       $124             3.0   \n",
       "3  40.68514 -73.95976  United States  ...        $74            30.0   \n",
       "4  40.79851 -73.94399  United States  ...        $41            10.0   \n",
       "\n",
       "  number of reviews last review  reviews per month review rate number  \\\n",
       "0               9.0  10/19/2021               0.21                4.0   \n",
       "1              45.0   5/21/2022               0.38                4.0   \n",
       "2               0.0         NaN                NaN                5.0   \n",
       "3             270.0    7/5/2019               4.64                4.0   \n",
       "4               9.0  11/19/2018               0.10                3.0   \n",
       "\n",
       "  calculated host listings count  availability 365  \\\n",
       "0                            6.0             286.0   \n",
       "1                            2.0             228.0   \n",
       "2                            1.0             352.0   \n",
       "3                            1.0             322.0   \n",
       "4                            1.0             289.0   \n",
       "\n",
       "                                         house_rules license  \n",
       "0  Clean up and treat the home the way you'd like...     NaN  \n",
       "1  Pet friendly but please confirm with me if the...     NaN  \n",
       "2  I encourage you to use my kitchen, cooking and...     NaN  \n",
       "3                                                NaN     NaN  \n",
       "4  Please no smoking in the house, porch or on th...     NaN  \n",
       "\n",
       "[5 rows x 26 columns]"
      ]
     },
     "execution_count": 464,
     "metadata": {},
     "output_type": "execute_result"
    }
   ],
   "source": [
    "import pandas as pd\n",
    "import numpy as np\n",
    "from sklearn.preprocessing import LabelEncoder\n",
    "import matplotlib.pyplot as plt\n",
    "import plotly.express as px\n",
    "from plotly.offline import init_notebook_mode, iplot, plot\n",
    "\n",
    "df = pd.read_csv('Airbnb_Open_Data.csv')\n",
    "df.iloc[13, df.columns.get_loc('neighbourhood group')] = 'Brooklyn'\n",
    "df.iloc[18, df.columns.get_loc('neighbourhood group')] = 'Manhattan'\n",
    "\n",
    "df.head()"
   ]
  },
  {
   "cell_type": "code",
   "execution_count": null,
   "metadata": {},
   "outputs": [],
   "source": [
    "\n",
    "    "
   ]
  },
  {
   "cell_type": "code",
   "execution_count": 465,
   "metadata": {},
   "outputs": [],
   "source": [
    "numeric_columns = df.select_dtypes(include=[np.number])\n",
    "\n",
    "medians = numeric_columns.median()\n",
    "\n",
    "df[numeric_columns.columns] = numeric_columns.fillna(medians)"
   ]
  },
  {
   "cell_type": "code",
   "execution_count": 466,
   "metadata": {},
   "outputs": [
    {
     "name": "stderr",
     "output_type": "stream",
     "text": [
      "/var/folders/8q/jzwt9rrs4bz6txvcy6scnyn80000gn/T/ipykernel_80388/3619526064.py:3: FutureWarning:\n",
      "\n",
      "The default value of regex will change from True to False in a future version. In addition, single character regular expressions will *not* be treated as literal strings when regex=True.\n",
      "\n"
     ]
    }
   ],
   "source": [
    "cols = ['price', 'service fee']\n",
    "for i in cols:\n",
    "    df[i] = df[i].str.replace('$', '')\n",
    "    df[i] = df[i].str.replace(',', '')\n",
    "    df[i] = pd.to_numeric(df[i])"
   ]
  },
  {
   "cell_type": "code",
   "execution_count": 467,
   "metadata": {},
   "outputs": [],
   "source": [
    "#columns_to_encode = ['neighbourhood group', 'neighbourhood', 'instant_bookable', 'room type',]\n",
    "\n",
    "# Create a LabelEncoder object\n",
    "#label_encoder = LabelEncoder()\n",
    "\n",
    "# Iterate through each column and label encode the values\n",
    "#for col in columns_to_encode:\n",
    "    #df[col] = label_encoder.fit_transform(df[col])"
   ]
  },
  {
   "cell_type": "code",
   "execution_count": 468,
   "metadata": {},
   "outputs": [],
   "source": [
    "df = df.drop(columns = ['id', 'host id'])\n"
   ]
  },
  {
   "cell_type": "code",
   "execution_count": 469,
   "metadata": {},
   "outputs": [
    {
     "data": {
      "text/html": [
       "<div>\n",
       "<style scoped>\n",
       "    .dataframe tbody tr th:only-of-type {\n",
       "        vertical-align: middle;\n",
       "    }\n",
       "\n",
       "    .dataframe tbody tr th {\n",
       "        vertical-align: top;\n",
       "    }\n",
       "\n",
       "    .dataframe thead th {\n",
       "        text-align: right;\n",
       "    }\n",
       "</style>\n",
       "<table border=\"1\" class=\"dataframe\">\n",
       "  <thead>\n",
       "    <tr style=\"text-align: right;\">\n",
       "      <th></th>\n",
       "      <th>NAME</th>\n",
       "      <th>host_identity_verified</th>\n",
       "      <th>host name</th>\n",
       "      <th>neighbourhood group</th>\n",
       "      <th>neighbourhood</th>\n",
       "      <th>lat</th>\n",
       "      <th>long</th>\n",
       "      <th>country</th>\n",
       "      <th>country code</th>\n",
       "      <th>instant_bookable</th>\n",
       "      <th>...</th>\n",
       "      <th>service fee</th>\n",
       "      <th>minimum nights</th>\n",
       "      <th>number of reviews</th>\n",
       "      <th>last review</th>\n",
       "      <th>reviews per month</th>\n",
       "      <th>review rate number</th>\n",
       "      <th>calculated host listings count</th>\n",
       "      <th>availability 365</th>\n",
       "      <th>house_rules</th>\n",
       "      <th>license</th>\n",
       "    </tr>\n",
       "  </thead>\n",
       "  <tbody>\n",
       "    <tr>\n",
       "      <th>0</th>\n",
       "      <td>Clean &amp; quiet apt home by the park</td>\n",
       "      <td>unconfirmed</td>\n",
       "      <td>Madaline</td>\n",
       "      <td>Brooklyn</td>\n",
       "      <td>Kensington</td>\n",
       "      <td>40.64749</td>\n",
       "      <td>-73.97237</td>\n",
       "      <td>United States</td>\n",
       "      <td>US</td>\n",
       "      <td>False</td>\n",
       "      <td>...</td>\n",
       "      <td>193.0</td>\n",
       "      <td>10.0</td>\n",
       "      <td>9.0</td>\n",
       "      <td>10/19/2021</td>\n",
       "      <td>0.21</td>\n",
       "      <td>4.0</td>\n",
       "      <td>6.0</td>\n",
       "      <td>286.0</td>\n",
       "      <td>Clean up and treat the home the way you'd like...</td>\n",
       "      <td>NaN</td>\n",
       "    </tr>\n",
       "    <tr>\n",
       "      <th>1</th>\n",
       "      <td>Skylit Midtown Castle</td>\n",
       "      <td>verified</td>\n",
       "      <td>Jenna</td>\n",
       "      <td>Manhattan</td>\n",
       "      <td>Midtown</td>\n",
       "      <td>40.75362</td>\n",
       "      <td>-73.98377</td>\n",
       "      <td>United States</td>\n",
       "      <td>US</td>\n",
       "      <td>False</td>\n",
       "      <td>...</td>\n",
       "      <td>28.0</td>\n",
       "      <td>30.0</td>\n",
       "      <td>45.0</td>\n",
       "      <td>5/21/2022</td>\n",
       "      <td>0.38</td>\n",
       "      <td>4.0</td>\n",
       "      <td>2.0</td>\n",
       "      <td>228.0</td>\n",
       "      <td>Pet friendly but please confirm with me if the...</td>\n",
       "      <td>NaN</td>\n",
       "    </tr>\n",
       "    <tr>\n",
       "      <th>2</th>\n",
       "      <td>THE VILLAGE OF HARLEM....NEW YORK !</td>\n",
       "      <td>NaN</td>\n",
       "      <td>Elise</td>\n",
       "      <td>Manhattan</td>\n",
       "      <td>Harlem</td>\n",
       "      <td>40.80902</td>\n",
       "      <td>-73.94190</td>\n",
       "      <td>United States</td>\n",
       "      <td>US</td>\n",
       "      <td>True</td>\n",
       "      <td>...</td>\n",
       "      <td>124.0</td>\n",
       "      <td>3.0</td>\n",
       "      <td>0.0</td>\n",
       "      <td>NaN</td>\n",
       "      <td>0.74</td>\n",
       "      <td>5.0</td>\n",
       "      <td>1.0</td>\n",
       "      <td>352.0</td>\n",
       "      <td>I encourage you to use my kitchen, cooking and...</td>\n",
       "      <td>NaN</td>\n",
       "    </tr>\n",
       "    <tr>\n",
       "      <th>3</th>\n",
       "      <td>NaN</td>\n",
       "      <td>unconfirmed</td>\n",
       "      <td>Garry</td>\n",
       "      <td>Brooklyn</td>\n",
       "      <td>Clinton Hill</td>\n",
       "      <td>40.68514</td>\n",
       "      <td>-73.95976</td>\n",
       "      <td>United States</td>\n",
       "      <td>US</td>\n",
       "      <td>True</td>\n",
       "      <td>...</td>\n",
       "      <td>74.0</td>\n",
       "      <td>30.0</td>\n",
       "      <td>270.0</td>\n",
       "      <td>7/5/2019</td>\n",
       "      <td>4.64</td>\n",
       "      <td>4.0</td>\n",
       "      <td>1.0</td>\n",
       "      <td>322.0</td>\n",
       "      <td>NaN</td>\n",
       "      <td>NaN</td>\n",
       "    </tr>\n",
       "    <tr>\n",
       "      <th>4</th>\n",
       "      <td>Entire Apt: Spacious Studio/Loft by central park</td>\n",
       "      <td>verified</td>\n",
       "      <td>Lyndon</td>\n",
       "      <td>Manhattan</td>\n",
       "      <td>East Harlem</td>\n",
       "      <td>40.79851</td>\n",
       "      <td>-73.94399</td>\n",
       "      <td>United States</td>\n",
       "      <td>US</td>\n",
       "      <td>False</td>\n",
       "      <td>...</td>\n",
       "      <td>41.0</td>\n",
       "      <td>10.0</td>\n",
       "      <td>9.0</td>\n",
       "      <td>11/19/2018</td>\n",
       "      <td>0.10</td>\n",
       "      <td>3.0</td>\n",
       "      <td>1.0</td>\n",
       "      <td>289.0</td>\n",
       "      <td>Please no smoking in the house, porch or on th...</td>\n",
       "      <td>NaN</td>\n",
       "    </tr>\n",
       "  </tbody>\n",
       "</table>\n",
       "<p>5 rows × 24 columns</p>\n",
       "</div>"
      ],
      "text/plain": [
       "                                               NAME host_identity_verified  \\\n",
       "0                Clean & quiet apt home by the park            unconfirmed   \n",
       "1                             Skylit Midtown Castle               verified   \n",
       "2               THE VILLAGE OF HARLEM....NEW YORK !                    NaN   \n",
       "3                                               NaN            unconfirmed   \n",
       "4  Entire Apt: Spacious Studio/Loft by central park               verified   \n",
       "\n",
       "  host name neighbourhood group neighbourhood       lat      long  \\\n",
       "0  Madaline            Brooklyn    Kensington  40.64749 -73.97237   \n",
       "1     Jenna           Manhattan       Midtown  40.75362 -73.98377   \n",
       "2     Elise           Manhattan        Harlem  40.80902 -73.94190   \n",
       "3     Garry            Brooklyn  Clinton Hill  40.68514 -73.95976   \n",
       "4    Lyndon           Manhattan   East Harlem  40.79851 -73.94399   \n",
       "\n",
       "         country country code instant_bookable  ... service fee  \\\n",
       "0  United States           US            False  ...       193.0   \n",
       "1  United States           US            False  ...        28.0   \n",
       "2  United States           US             True  ...       124.0   \n",
       "3  United States           US             True  ...        74.0   \n",
       "4  United States           US            False  ...        41.0   \n",
       "\n",
       "  minimum nights  number of reviews  last review  reviews per month  \\\n",
       "0           10.0                9.0   10/19/2021               0.21   \n",
       "1           30.0               45.0    5/21/2022               0.38   \n",
       "2            3.0                0.0          NaN               0.74   \n",
       "3           30.0              270.0     7/5/2019               4.64   \n",
       "4           10.0                9.0   11/19/2018               0.10   \n",
       "\n",
       "   review rate number  calculated host listings count availability 365  \\\n",
       "0                 4.0                             6.0            286.0   \n",
       "1                 4.0                             2.0            228.0   \n",
       "2                 5.0                             1.0            352.0   \n",
       "3                 4.0                             1.0            322.0   \n",
       "4                 3.0                             1.0            289.0   \n",
       "\n",
       "                                         house_rules  license  \n",
       "0  Clean up and treat the home the way you'd like...      NaN  \n",
       "1  Pet friendly but please confirm with me if the...      NaN  \n",
       "2  I encourage you to use my kitchen, cooking and...      NaN  \n",
       "3                                                NaN      NaN  \n",
       "4  Please no smoking in the house, porch or on th...      NaN  \n",
       "\n",
       "[5 rows x 24 columns]"
      ]
     },
     "execution_count": 469,
     "metadata": {},
     "output_type": "execute_result"
    }
   ],
   "source": [
    "df.head()"
   ]
  },
  {
   "cell_type": "code",
   "execution_count": 470,
   "metadata": {},
   "outputs": [
    {
     "name": "stderr",
     "output_type": "stream",
     "text": [
      "/var/folders/8q/jzwt9rrs4bz6txvcy6scnyn80000gn/T/ipykernel_80388/1134722465.py:1: FutureWarning:\n",
      "\n",
      "The default value of numeric_only in DataFrame.corr is deprecated. In a future version, it will default to False. Select only valid columns or specify the value of numeric_only to silence this warning.\n",
      "\n"
     ]
    },
    {
     "data": {
      "text/html": [
       "<div>\n",
       "<style scoped>\n",
       "    .dataframe tbody tr th:only-of-type {\n",
       "        vertical-align: middle;\n",
       "    }\n",
       "\n",
       "    .dataframe tbody tr th {\n",
       "        vertical-align: top;\n",
       "    }\n",
       "\n",
       "    .dataframe thead th {\n",
       "        text-align: right;\n",
       "    }\n",
       "</style>\n",
       "<table border=\"1\" class=\"dataframe\">\n",
       "  <thead>\n",
       "    <tr style=\"text-align: right;\">\n",
       "      <th></th>\n",
       "      <th>lat</th>\n",
       "      <th>long</th>\n",
       "      <th>Construction year</th>\n",
       "      <th>price</th>\n",
       "      <th>service fee</th>\n",
       "      <th>minimum nights</th>\n",
       "      <th>number of reviews</th>\n",
       "      <th>reviews per month</th>\n",
       "      <th>review rate number</th>\n",
       "      <th>calculated host listings count</th>\n",
       "      <th>availability 365</th>\n",
       "    </tr>\n",
       "  </thead>\n",
       "  <tbody>\n",
       "    <tr>\n",
       "      <th>lat</th>\n",
       "      <td>1.000000</td>\n",
       "      <td>0.074348</td>\n",
       "      <td>0.005692</td>\n",
       "      <td>-0.005897</td>\n",
       "      <td>-0.005886</td>\n",
       "      <td>0.014842</td>\n",
       "      <td>-0.025245</td>\n",
       "      <td>-0.021800</td>\n",
       "      <td>-0.003982</td>\n",
       "      <td>0.032357</td>\n",
       "      <td>-0.004960</td>\n",
       "    </tr>\n",
       "    <tr>\n",
       "      <th>long</th>\n",
       "      <td>0.074348</td>\n",
       "      <td>1.000000</td>\n",
       "      <td>0.000880</td>\n",
       "      <td>0.003271</td>\n",
       "      <td>0.003118</td>\n",
       "      <td>-0.039502</td>\n",
       "      <td>0.068999</td>\n",
       "      <td>0.116834</td>\n",
       "      <td>0.015265</td>\n",
       "      <td>-0.104034</td>\n",
       "      <td>0.058294</td>\n",
       "    </tr>\n",
       "    <tr>\n",
       "      <th>Construction year</th>\n",
       "      <td>0.005692</td>\n",
       "      <td>0.000880</td>\n",
       "      <td>1.000000</td>\n",
       "      <td>-0.003736</td>\n",
       "      <td>-0.003412</td>\n",
       "      <td>-0.000498</td>\n",
       "      <td>0.001835</td>\n",
       "      <td>0.003721</td>\n",
       "      <td>0.004792</td>\n",
       "      <td>-0.002699</td>\n",
       "      <td>-0.008388</td>\n",
       "    </tr>\n",
       "    <tr>\n",
       "      <th>price</th>\n",
       "      <td>-0.005897</td>\n",
       "      <td>0.003271</td>\n",
       "      <td>-0.003736</td>\n",
       "      <td>1.000000</td>\n",
       "      <td>0.999991</td>\n",
       "      <td>-0.003434</td>\n",
       "      <td>0.005299</td>\n",
       "      <td>0.004567</td>\n",
       "      <td>-0.004515</td>\n",
       "      <td>-0.000111</td>\n",
       "      <td>-0.002794</td>\n",
       "    </tr>\n",
       "    <tr>\n",
       "      <th>service fee</th>\n",
       "      <td>-0.005886</td>\n",
       "      <td>0.003118</td>\n",
       "      <td>-0.003412</td>\n",
       "      <td>0.999991</td>\n",
       "      <td>1.000000</td>\n",
       "      <td>-0.003615</td>\n",
       "      <td>0.005191</td>\n",
       "      <td>0.004445</td>\n",
       "      <td>-0.004329</td>\n",
       "      <td>0.000036</td>\n",
       "      <td>-0.003134</td>\n",
       "    </tr>\n",
       "    <tr>\n",
       "      <th>minimum nights</th>\n",
       "      <td>0.014842</td>\n",
       "      <td>-0.039502</td>\n",
       "      <td>-0.000498</td>\n",
       "      <td>-0.003434</td>\n",
       "      <td>-0.003615</td>\n",
       "      <td>1.000000</td>\n",
       "      <td>-0.049860</td>\n",
       "      <td>-0.087013</td>\n",
       "      <td>-0.002093</td>\n",
       "      <td>0.084622</td>\n",
       "      <td>0.058783</td>\n",
       "    </tr>\n",
       "    <tr>\n",
       "      <th>number of reviews</th>\n",
       "      <td>-0.025245</td>\n",
       "      <td>0.068999</td>\n",
       "      <td>0.001835</td>\n",
       "      <td>0.005299</td>\n",
       "      <td>0.005191</td>\n",
       "      <td>-0.049860</td>\n",
       "      <td>1.000000</td>\n",
       "      <td>0.601314</td>\n",
       "      <td>-0.018608</td>\n",
       "      <td>-0.080699</td>\n",
       "      <td>0.098399</td>\n",
       "    </tr>\n",
       "    <tr>\n",
       "      <th>reviews per month</th>\n",
       "      <td>-0.021800</td>\n",
       "      <td>0.116834</td>\n",
       "      <td>0.003721</td>\n",
       "      <td>0.004567</td>\n",
       "      <td>0.004445</td>\n",
       "      <td>-0.087013</td>\n",
       "      <td>0.601314</td>\n",
       "      <td>1.000000</td>\n",
       "      <td>0.033897</td>\n",
       "      <td>-0.030541</td>\n",
       "      <td>0.071948</td>\n",
       "    </tr>\n",
       "    <tr>\n",
       "      <th>review rate number</th>\n",
       "      <td>-0.003982</td>\n",
       "      <td>0.015265</td>\n",
       "      <td>0.004792</td>\n",
       "      <td>-0.004515</td>\n",
       "      <td>-0.004329</td>\n",
       "      <td>-0.002093</td>\n",
       "      <td>-0.018608</td>\n",
       "      <td>0.033897</td>\n",
       "      <td>1.000000</td>\n",
       "      <td>0.024365</td>\n",
       "      <td>-0.006581</td>\n",
       "    </tr>\n",
       "    <tr>\n",
       "      <th>calculated host listings count</th>\n",
       "      <td>0.032357</td>\n",
       "      <td>-0.104034</td>\n",
       "      <td>-0.002699</td>\n",
       "      <td>-0.000111</td>\n",
       "      <td>0.000036</td>\n",
       "      <td>0.084622</td>\n",
       "      <td>-0.080699</td>\n",
       "      <td>-0.030541</td>\n",
       "      <td>0.024365</td>\n",
       "      <td>1.000000</td>\n",
       "      <td>0.158876</td>\n",
       "    </tr>\n",
       "    <tr>\n",
       "      <th>availability 365</th>\n",
       "      <td>-0.004960</td>\n",
       "      <td>0.058294</td>\n",
       "      <td>-0.008388</td>\n",
       "      <td>-0.002794</td>\n",
       "      <td>-0.003134</td>\n",
       "      <td>0.058783</td>\n",
       "      <td>0.098399</td>\n",
       "      <td>0.071948</td>\n",
       "      <td>-0.006581</td>\n",
       "      <td>0.158876</td>\n",
       "      <td>1.000000</td>\n",
       "    </tr>\n",
       "  </tbody>\n",
       "</table>\n",
       "</div>"
      ],
      "text/plain": [
       "                                     lat      long  Construction year  \\\n",
       "lat                             1.000000  0.074348           0.005692   \n",
       "long                            0.074348  1.000000           0.000880   \n",
       "Construction year               0.005692  0.000880           1.000000   \n",
       "price                          -0.005897  0.003271          -0.003736   \n",
       "service fee                    -0.005886  0.003118          -0.003412   \n",
       "minimum nights                  0.014842 -0.039502          -0.000498   \n",
       "number of reviews              -0.025245  0.068999           0.001835   \n",
       "reviews per month              -0.021800  0.116834           0.003721   \n",
       "review rate number             -0.003982  0.015265           0.004792   \n",
       "calculated host listings count  0.032357 -0.104034          -0.002699   \n",
       "availability 365               -0.004960  0.058294          -0.008388   \n",
       "\n",
       "                                   price  service fee  minimum nights  \\\n",
       "lat                            -0.005897    -0.005886        0.014842   \n",
       "long                            0.003271     0.003118       -0.039502   \n",
       "Construction year              -0.003736    -0.003412       -0.000498   \n",
       "price                           1.000000     0.999991       -0.003434   \n",
       "service fee                     0.999991     1.000000       -0.003615   \n",
       "minimum nights                 -0.003434    -0.003615        1.000000   \n",
       "number of reviews               0.005299     0.005191       -0.049860   \n",
       "reviews per month               0.004567     0.004445       -0.087013   \n",
       "review rate number             -0.004515    -0.004329       -0.002093   \n",
       "calculated host listings count -0.000111     0.000036        0.084622   \n",
       "availability 365               -0.002794    -0.003134        0.058783   \n",
       "\n",
       "                                number of reviews  reviews per month  \\\n",
       "lat                                     -0.025245          -0.021800   \n",
       "long                                     0.068999           0.116834   \n",
       "Construction year                        0.001835           0.003721   \n",
       "price                                    0.005299           0.004567   \n",
       "service fee                              0.005191           0.004445   \n",
       "minimum nights                          -0.049860          -0.087013   \n",
       "number of reviews                        1.000000           0.601314   \n",
       "reviews per month                        0.601314           1.000000   \n",
       "review rate number                      -0.018608           0.033897   \n",
       "calculated host listings count          -0.080699          -0.030541   \n",
       "availability 365                         0.098399           0.071948   \n",
       "\n",
       "                                review rate number  \\\n",
       "lat                                      -0.003982   \n",
       "long                                      0.015265   \n",
       "Construction year                         0.004792   \n",
       "price                                    -0.004515   \n",
       "service fee                              -0.004329   \n",
       "minimum nights                           -0.002093   \n",
       "number of reviews                        -0.018608   \n",
       "reviews per month                         0.033897   \n",
       "review rate number                        1.000000   \n",
       "calculated host listings count            0.024365   \n",
       "availability 365                         -0.006581   \n",
       "\n",
       "                                calculated host listings count  \\\n",
       "lat                                                   0.032357   \n",
       "long                                                 -0.104034   \n",
       "Construction year                                    -0.002699   \n",
       "price                                                -0.000111   \n",
       "service fee                                           0.000036   \n",
       "minimum nights                                        0.084622   \n",
       "number of reviews                                    -0.080699   \n",
       "reviews per month                                    -0.030541   \n",
       "review rate number                                    0.024365   \n",
       "calculated host listings count                        1.000000   \n",
       "availability 365                                      0.158876   \n",
       "\n",
       "                                availability 365  \n",
       "lat                                    -0.004960  \n",
       "long                                    0.058294  \n",
       "Construction year                      -0.008388  \n",
       "price                                  -0.002794  \n",
       "service fee                            -0.003134  \n",
       "minimum nights                          0.058783  \n",
       "number of reviews                       0.098399  \n",
       "reviews per month                       0.071948  \n",
       "review rate number                     -0.006581  \n",
       "calculated host listings count          0.158876  \n",
       "availability 365                        1.000000  "
      ]
     },
     "execution_count": 470,
     "metadata": {},
     "output_type": "execute_result"
    }
   ],
   "source": [
    "df.corr()"
   ]
  },
  {
   "cell_type": "code",
   "execution_count": 471,
   "metadata": {},
   "outputs": [
    {
     "data": {
      "text/html": [
       "<div>\n",
       "<style scoped>\n",
       "    .dataframe tbody tr th:only-of-type {\n",
       "        vertical-align: middle;\n",
       "    }\n",
       "\n",
       "    .dataframe tbody tr th {\n",
       "        vertical-align: top;\n",
       "    }\n",
       "\n",
       "    .dataframe thead th {\n",
       "        text-align: right;\n",
       "    }\n",
       "</style>\n",
       "<table border=\"1\" class=\"dataframe\">\n",
       "  <thead>\n",
       "    <tr style=\"text-align: right;\">\n",
       "      <th></th>\n",
       "      <th>NAME</th>\n",
       "      <th>host_identity_verified</th>\n",
       "      <th>host name</th>\n",
       "      <th>neighbourhood group</th>\n",
       "      <th>neighbourhood</th>\n",
       "      <th>lat</th>\n",
       "      <th>long</th>\n",
       "      <th>country</th>\n",
       "      <th>country code</th>\n",
       "      <th>instant_bookable</th>\n",
       "      <th>...</th>\n",
       "      <th>service fee</th>\n",
       "      <th>minimum nights</th>\n",
       "      <th>number of reviews</th>\n",
       "      <th>last review</th>\n",
       "      <th>reviews per month</th>\n",
       "      <th>review rate number</th>\n",
       "      <th>calculated host listings count</th>\n",
       "      <th>availability 365</th>\n",
       "      <th>house_rules</th>\n",
       "      <th>license</th>\n",
       "    </tr>\n",
       "  </thead>\n",
       "  <tbody>\n",
       "  </tbody>\n",
       "</table>\n",
       "<p>0 rows × 24 columns</p>\n",
       "</div>"
      ],
      "text/plain": [
       "Empty DataFrame\n",
       "Columns: [NAME, host_identity_verified, host name, neighbourhood group, neighbourhood, lat, long, country, country code, instant_bookable, cancellation_policy, room type, Construction year, price, service fee, minimum nights, number of reviews, last review, reviews per month, review rate number, calculated host listings count, availability 365, house_rules, license]\n",
       "Index: []\n",
       "\n",
       "[0 rows x 24 columns]"
      ]
     },
     "execution_count": 471,
     "metadata": {},
     "output_type": "execute_result"
    }
   ],
   "source": [
    "df[df['neighbourhood group'] == 'manhatan']"
   ]
  },
  {
   "cell_type": "code",
   "execution_count": 472,
   "metadata": {},
   "outputs": [
    {
     "data": {
      "image/png": "[encoded data removed]",
      "text/plain": [
       "<Figure size 640x480 with 2 Axes>"
      ]
     },
     "metadata": {},
     "output_type": "display_data"
    }
   ],
   "source": [
    "plt.scatter(df['lat'], df['long'], c=df['price'], cmap='viridis')\n",
    "plt.colorbar()\n",
    "\n",
    "plt.show()"
   ]
  },
  {
   "cell_type": "code",
   "execution_count": 473,
   "metadata": {},
   "outputs": [
    {
     "data": {
      "text/html": [
       "<div>\n",
       "<style scoped>\n",
       "    .dataframe tbody tr th:only-of-type {\n",
       "        vertical-align: middle;\n",
       "    }\n",
       "\n",
       "    .dataframe tbody tr th {\n",
       "        vertical-align: top;\n",
       "    }\n",
       "\n",
       "    .dataframe thead th {\n",
       "        text-align: right;\n",
       "    }\n",
       "</style>\n",
       "<table border=\"1\" class=\"dataframe\">\n",
       "  <thead>\n",
       "    <tr style=\"text-align: right;\">\n",
       "      <th></th>\n",
       "      <th>neighbourhood</th>\n",
       "      <th>price</th>\n",
       "    </tr>\n",
       "  </thead>\n",
       "  <tbody>\n",
       "    <tr>\n",
       "      <th>0</th>\n",
       "      <td>Battery Park City</td>\n",
       "      <td>591.059322</td>\n",
       "    </tr>\n",
       "    <tr>\n",
       "      <th>1</th>\n",
       "      <td>Chelsea</td>\n",
       "      <td>633.661694</td>\n",
       "    </tr>\n",
       "    <tr>\n",
       "      <th>2</th>\n",
       "      <td>Chinatown</td>\n",
       "      <td>629.899619</td>\n",
       "    </tr>\n",
       "    <tr>\n",
       "      <th>3</th>\n",
       "      <td>Civic Center</td>\n",
       "      <td>626.121495</td>\n",
       "    </tr>\n",
       "    <tr>\n",
       "      <th>4</th>\n",
       "      <td>East Harlem</td>\n",
       "      <td>626.872642</td>\n",
       "    </tr>\n",
       "    <tr>\n",
       "      <th>5</th>\n",
       "      <td>East Village</td>\n",
       "      <td>617.528226</td>\n",
       "    </tr>\n",
       "    <tr>\n",
       "      <th>6</th>\n",
       "      <td>Financial District</td>\n",
       "      <td>623.579973</td>\n",
       "    </tr>\n",
       "    <tr>\n",
       "      <th>7</th>\n",
       "      <td>Flatiron District</td>\n",
       "      <td>613.101266</td>\n",
       "    </tr>\n",
       "    <tr>\n",
       "      <th>8</th>\n",
       "      <td>Gramercy</td>\n",
       "      <td>614.959479</td>\n",
       "    </tr>\n",
       "    <tr>\n",
       "      <th>9</th>\n",
       "      <td>Greenwich Village</td>\n",
       "      <td>639.806757</td>\n",
       "    </tr>\n",
       "    <tr>\n",
       "      <th>10</th>\n",
       "      <td>Harlem</td>\n",
       "      <td>626.599303</td>\n",
       "    </tr>\n",
       "    <tr>\n",
       "      <th>11</th>\n",
       "      <td>Hell's Kitchen</td>\n",
       "      <td>621.065388</td>\n",
       "    </tr>\n",
       "    <tr>\n",
       "      <th>12</th>\n",
       "      <td>Inwood</td>\n",
       "      <td>661.708791</td>\n",
       "    </tr>\n",
       "    <tr>\n",
       "      <th>13</th>\n",
       "      <td>Kips Bay</td>\n",
       "      <td>610.302072</td>\n",
       "    </tr>\n",
       "    <tr>\n",
       "      <th>14</th>\n",
       "      <td>Little Italy</td>\n",
       "      <td>610.711191</td>\n",
       "    </tr>\n",
       "    <tr>\n",
       "      <th>15</th>\n",
       "      <td>Lower East Side</td>\n",
       "      <td>626.561792</td>\n",
       "    </tr>\n",
       "    <tr>\n",
       "      <th>16</th>\n",
       "      <td>Marble Hill</td>\n",
       "      <td>497.142857</td>\n",
       "    </tr>\n",
       "    <tr>\n",
       "      <th>17</th>\n",
       "      <td>Midtown</td>\n",
       "      <td>609.547041</td>\n",
       "    </tr>\n",
       "    <tr>\n",
       "      <th>18</th>\n",
       "      <td>Morningside Heights</td>\n",
       "      <td>624.957413</td>\n",
       "    </tr>\n",
       "    <tr>\n",
       "      <th>19</th>\n",
       "      <td>Murray Hill</td>\n",
       "      <td>617.256276</td>\n",
       "    </tr>\n",
       "    <tr>\n",
       "      <th>20</th>\n",
       "      <td>NoHo</td>\n",
       "      <td>664.309353</td>\n",
       "    </tr>\n",
       "    <tr>\n",
       "      <th>21</th>\n",
       "      <td>Nolita</td>\n",
       "      <td>631.385633</td>\n",
       "    </tr>\n",
       "    <tr>\n",
       "      <th>22</th>\n",
       "      <td>Roosevelt Island</td>\n",
       "      <td>629.729560</td>\n",
       "    </tr>\n",
       "    <tr>\n",
       "      <th>23</th>\n",
       "      <td>SoHo</td>\n",
       "      <td>636.286344</td>\n",
       "    </tr>\n",
       "    <tr>\n",
       "      <th>24</th>\n",
       "      <td>Stuyvesant Town</td>\n",
       "      <td>680.915663</td>\n",
       "    </tr>\n",
       "    <tr>\n",
       "      <th>25</th>\n",
       "      <td>Theater District</td>\n",
       "      <td>635.007080</td>\n",
       "    </tr>\n",
       "    <tr>\n",
       "      <th>26</th>\n",
       "      <td>Tribeca</td>\n",
       "      <td>636.863768</td>\n",
       "    </tr>\n",
       "    <tr>\n",
       "      <th>27</th>\n",
       "      <td>Two Bridges</td>\n",
       "      <td>621.174242</td>\n",
       "    </tr>\n",
       "    <tr>\n",
       "      <th>28</th>\n",
       "      <td>Upper East Side</td>\n",
       "      <td>618.334333</td>\n",
       "    </tr>\n",
       "    <tr>\n",
       "      <th>29</th>\n",
       "      <td>Upper West Side</td>\n",
       "      <td>616.641485</td>\n",
       "    </tr>\n",
       "    <tr>\n",
       "      <th>30</th>\n",
       "      <td>Washington Heights</td>\n",
       "      <td>602.199775</td>\n",
       "    </tr>\n",
       "    <tr>\n",
       "      <th>31</th>\n",
       "      <td>West Village</td>\n",
       "      <td>638.212838</td>\n",
       "    </tr>\n",
       "  </tbody>\n",
       "</table>\n",
       "</div>"
      ],
      "text/plain": [
       "          neighbourhood       price\n",
       "0     Battery Park City  591.059322\n",
       "1               Chelsea  633.661694\n",
       "2             Chinatown  629.899619\n",
       "3          Civic Center  626.121495\n",
       "4           East Harlem  626.872642\n",
       "5          East Village  617.528226\n",
       "6    Financial District  623.579973\n",
       "7     Flatiron District  613.101266\n",
       "8              Gramercy  614.959479\n",
       "9     Greenwich Village  639.806757\n",
       "10               Harlem  626.599303\n",
       "11       Hell's Kitchen  621.065388\n",
       "12               Inwood  661.708791\n",
       "13             Kips Bay  610.302072\n",
       "14         Little Italy  610.711191\n",
       "15      Lower East Side  626.561792\n",
       "16          Marble Hill  497.142857\n",
       "17              Midtown  609.547041\n",
       "18  Morningside Heights  624.957413\n",
       "19          Murray Hill  617.256276\n",
       "20                 NoHo  664.309353\n",
       "21               Nolita  631.385633\n",
       "22     Roosevelt Island  629.729560\n",
       "23                 SoHo  636.286344\n",
       "24      Stuyvesant Town  680.915663\n",
       "25     Theater District  635.007080\n",
       "26              Tribeca  636.863768\n",
       "27          Two Bridges  621.174242\n",
       "28      Upper East Side  618.334333\n",
       "29      Upper West Side  616.641485\n",
       "30   Washington Heights  602.199775\n",
       "31         West Village  638.212838"
      ]
     },
     "execution_count": 473,
     "metadata": {},
     "output_type": "execute_result"
    }
   ],
   "source": [
    "df[df['neighbourhood group'] == 'Manhattan'].groupby('neighbourhood').agg({'price':'mean'}).reset_index()"
   ]
  },
  {
   "cell_type": "code",
   "execution_count": 474,
   "metadata": {},
   "outputs": [
    {
     "name": "stdout",
     "output_type": "stream",
     "text": [
      "['Brooklyn' 'Manhattan' 'Queens' nan 'Staten Island' 'Bronx']\n",
      "Brooklyn 626.5610778443114\n",
      "Manhattan 622.4365084815603\n",
      "Queens 630.2076469699259\n",
      "Staten Island 624.4905462184873\n",
      "Bronx 627.7663585951941\n"
     ]
    }
   ],
   "source": [
    "avg_price_group = dict()\n",
    "print(df['neighbourhood group'].unique())\n",
    "\n",
    "for i in df['neighbourhood group'].unique():\n",
    "    if not pd.isna(i):\n",
    "        avg_price_group[i] = df.loc[df['neighbourhood group'] == i, 'price'].mean()\n",
    "        print(i, avg_price_group[i])\n"
   ]
  },
  {
   "cell_type": "code",
   "execution_count": 475,
   "metadata": {},
   "outputs": [],
   "source": [
    "avg_price_Brooklyn = dict()\n",
    "dfBrook = df[df['neighbourhood group'] == 'Brooklyn']\n",
    "\n",
    "for i in dfBrook['neighbourhood'].unique():\n",
    "    if not pd.isna(i):\n",
    "        if len(df[df['neighbourhood'] == i]) > 9:\n",
    "            avg_price_Brooklyn[i] = df.loc[df['neighbourhood'] == i, 'price'].mean()\n",
    "\n",
    "sorted_dict_Brook = dict(sorted(avg_price_Brooklyn.items(), key=lambda item: item[1]))\n"
   ]
  },
  {
   "cell_type": "code",
   "execution_count": 476,
   "metadata": {},
   "outputs": [],
   "source": [
    "avg_price_Man = dict()\n",
    "dfMan = df[df['neighbourhood group'] == 'Manhattan']\n",
    "\n",
    "for i in dfMan['neighbourhood'].unique():\n",
    "    if not pd.isna(i):\n",
    "        if len(df[df['neighbourhood'] == i]) > 9:\n",
    "            avg_price_Man[i] = df.loc[df['neighbourhood'] == i, 'price'].mean()\n",
    "\n",
    "sorted_dict_Man = dict(sorted(avg_price_Man.items(), key=lambda item: item[1]))"
   ]
  },
  {
   "cell_type": "code",
   "execution_count": 477,
   "metadata": {},
   "outputs": [],
   "source": [
    "avg_price_Stat = dict()\n",
    "dfStat = df[df['neighbourhood group'] == 'Staten Island']\n",
    "\n",
    "for i in dfStat['neighbourhood'].unique():\n",
    "    if not pd.isna(i):\n",
    "        if len(df[df['neighbourhood'] == i]) > 9:\n",
    "            avg_price_Stat[i] = df.loc[df['neighbourhood'] == i, 'price'].mean()\n",
    "\n",
    "sorted_dict_Stat = dict(sorted(avg_price_Stat.items(), key=lambda item: item[1]))"
   ]
  },
  {
   "cell_type": "code",
   "execution_count": 478,
   "metadata": {},
   "outputs": [],
   "source": [
    "avg_price_Queens = dict()\n",
    "dfQueens = df[df['neighbourhood group'] == 'Queens']\n",
    "\n",
    "for i in dfQueens['neighbourhood'].unique():\n",
    "    if not pd.isna(i):\n",
    "        if len(df[df['neighbourhood'] == i]) > 9:\n",
    "            avg_price_Queens[i] = df.loc[df['neighbourhood'] == i, 'price'].mean()\n",
    "\n",
    "sorted_dict_Queens = dict(sorted(avg_price_Queens.items(), key=lambda item: item[1]))"
   ]
  },
  {
   "cell_type": "code",
   "execution_count": 479,
   "metadata": {},
   "outputs": [],
   "source": [
    "avg_price_Bronx = dict()\n",
    "dfBronx = df[df['neighbourhood group'] == 'Bronx']\n",
    "\n",
    "for i in dfBronx['neighbourhood'].unique():\n",
    "    if not pd.isna(i):\n",
    "        if len(df[df['neighbourhood'] == i]) > 9:\n",
    "            avg_price_Bronx[i] = df.loc[df['neighbourhood'] == i, 'price'].mean()\n",
    "\n",
    "sorted_dict_Bronx = dict(sorted(avg_price_Bronx.items(), key=lambda item: item[1]))"
   ]
  },
  {
   "cell_type": "code",
   "execution_count": 480,
   "metadata": {},
   "outputs": [],
   "source": [
    "avg_rating_Bronx = dict()\n",
    "dfBronx = df[df['neighbourhood group'] == 'Bronx']\n",
    "\n",
    "for i in dfBronx['neighbourhood'].unique():\n",
    "    if not pd.isna(i):\n",
    "        if len(df[df['neighbourhood'] == i]) > 9:\n",
    "            avg_rating_Bronx[i] = df.loc[df['neighbourhood'] == i, 'review rate number'].mean()\n",
    "\n",
    "sorted_rating_Bronx = dict(sorted(avg_rating_Bronx.items(), key=lambda item: item[1]))"
   ]
  },
  {
   "cell_type": "code",
   "execution_count": 481,
   "metadata": {},
   "outputs": [],
   "source": [
    "avg_rating_Queens = dict()\n",
    "dfQueens = df[df['neighbourhood group'] == 'Queens']\n",
    "\n",
    "for i in dfQueens['neighbourhood'].unique():\n",
    "    if not pd.isna(i):\n",
    "        if len(df[df['neighbourhood'] == i]) > 9:\n",
    "            avg_rating_Queens[i] = df.loc[df['neighbourhood'] == i, 'review rate number'].mean()\n",
    "\n",
    "sorted_rating_Queens = dict(sorted(avg_rating_Queens.items(), key=lambda item: item[1]))"
   ]
  },
  {
   "cell_type": "code",
   "execution_count": 482,
   "metadata": {},
   "outputs": [],
   "source": [
    "avg_rating_Stat = dict()\n",
    "dfStat = df[df['neighbourhood group'] == 'Staten Island']\n",
    "\n",
    "for i in dfStat['neighbourhood'].unique():\n",
    "    if not pd.isna(i):\n",
    "        if len(df[df['neighbourhood'] == i]) > 9:\n",
    "            avg_rating_Stat[i] = df.loc[df['neighbourhood'] == i, 'review rate number'].mean()\n",
    "\n",
    "sorted_rating_Stat = dict(sorted(avg_rating_Stat.items(), key=lambda item: item[1]))"
   ]
  },
  {
   "cell_type": "code",
   "execution_count": 483,
   "metadata": {},
   "outputs": [],
   "source": [
    "avg_rating_Man = dict()\n",
    "dfMan = df[df['neighbourhood group'] == 'Manhattan']\n",
    "\n",
    "for i in dfMan['neighbourhood'].unique():\n",
    "    if not pd.isna(i):\n",
    "        if len(df[df['neighbourhood'] == i]) > 9:\n",
    "            avg_rating_Man[i] = df.loc[df['neighbourhood'] == i, 'review rate number'].mean()\n",
    "\n",
    "sorted_rating_Man = dict(sorted(avg_rating_Man.items(), key=lambda item: item[1]))"
   ]
  },
  {
   "cell_type": "code",
   "execution_count": 484,
   "metadata": {},
   "outputs": [
    {
     "data": {
      "text/plain": [
       "2285"
      ]
     },
     "execution_count": 484,
     "metadata": {},
     "output_type": "execute_result"
    }
   ],
   "source": [
    "\n",
    "len(df[df['neighbourhood'] == 'Chelsea'])"
   ]
  },
  {
   "cell_type": "code",
   "execution_count": 485,
   "metadata": {},
   "outputs": [
    {
     "name": "stdout",
     "output_type": "stream",
     "text": [
      "Emerson Hill 317.0\n",
      "Castleton Corners 335.0\n",
      "Unionport 351.0\n",
      "Marble Hill 369.5\n",
      "South Beach 373.5\n",
      "Navy Yard 378.0\n",
      "Baychester 387.0\n",
      "Howard Beach 396.5\n",
      "Tremont 399.0\n",
      "Castle Hill 414.5\n",
      "Concourse Village 426.0\n",
      "Oakwood 433.0\n",
      "New Springville 434.5\n",
      "Grant City 454.0\n",
      "Randall Manor 469.0\n",
      "DUMBO 492.0\n",
      "Rosebank 496.5\n",
      "Fort Hamilton 502.0\n",
      "Richmond Hill 507.0\n",
      "Bronxdale 509.0\n",
      "Port Richmond 513.0\n",
      "Hollis 515.5\n",
      "Belle Harbor 517.0\n",
      "Bergen Beach 517.0\n",
      "Bensonhurst 518.0\n",
      "South Ozone Park 530.0\n",
      "Kingsbridge 532.5\n",
      "Sea Gate 533.0\n",
      "Laurelton 533.0\n",
      "Bayside 538.0\n",
      "Two Bridges 548.5\n",
      "Maspeth 550.0\n",
      "Windsor Terrace 551.0\n",
      "Port Morris 551.0\n",
      "Westchester Square 554.0\n",
      "Dyker Heights 555.0\n",
      "Brooklyn Heights 557.0\n",
      "Middle Village 557.0\n",
      "Mott Haven 557.0\n",
      "Van Nest 563.0\n",
      "Borough Park 569.0\n",
      "Bayswater 570.5\n",
      "Concord 571.0\n",
      "Battery Park City 573.0\n",
      "Park Slope 575.0\n",
      "Forest Hills 575.0\n",
      "Douglaston 579.0\n",
      "Mount Hope 579.5\n",
      "Vinegar Hill 586.5\n",
      "Bay Ridge 587.0\n",
      "Flatlands 588.0\n",
      "Springfield Gardens 589.0\n",
      "Edenwald 589.0\n",
      "Mariners Harbor 594.0\n",
      "Rosedale 594.0\n",
      "Washington Heights 595.0\n",
      "Mount Eden 595.0\n",
      "Edgemere 596.0\n",
      "Flatiron District 597.0\n",
      "Morrisania 597.0\n",
      "Ditmars Steinway 598.0\n",
      "Canarsie 598.0\n",
      "Fresh Meadows 598.0\n",
      "Schuylerville 598.0\n",
      "Eastchester 601.0\n",
      "Rego Park 601.0\n",
      "Wakefield 601.0\n",
      "Clason Point 603.0\n",
      "Downtown Brooklyn 603.0\n",
      "Midwood 603.5\n",
      "Williamsbridge 603.5\n",
      "Fort Greene 608.0\n",
      "Boerum Hill 608.0\n",
      "Midtown 609.0\n",
      "East New York 609.0\n",
      "Pelham Gardens 611.0\n",
      "New Dorp Beach 611.5\n",
      "Tompkinsville 612.0\n",
      "Claremont Village 612.0\n",
      "Gramercy 613.0\n",
      "Grymes Hill 613.0\n",
      "Bull's Head 613.0\n",
      "Murray Hill 613.5\n",
      "Sunnyside 614.0\n",
      "Hunts Point 614.0\n",
      "Carroll Gardens 615.0\n",
      "Morningside Heights 615.0\n",
      "East Village 615.5\n",
      "Little Italy 616.0\n",
      "Red Hook 617.0\n",
      "Crown Heights 618.0\n",
      "East Harlem 618.5\n",
      "Gowanus 618.5\n",
      "Hell's Kitchen 619.0\n",
      "Upper West Side 619.0\n",
      "Great Kills 619.0\n",
      "Harlem 620.0\n",
      "Greenpoint 620.0\n",
      "Jamaica 620.0\n",
      "Flushing 620.5\n",
      "Corona 620.5\n",
      "Bedford-Stuyvesant 621.0\n",
      "Far Rockaway 621.0\n",
      "St. Albans 622.5\n",
      "Kips Bay 623.0\n",
      "SoHo 623.0\n",
      "Cobble Hill 623.0\n",
      "Jamaica Estates 623.5\n",
      "Jackson Heights 625.5\n",
      "Kensington 626.0\n",
      "Williamsburg 626.0\n",
      "Financial District 626.0\n",
      "Sheepshead Bay 626.0\n",
      "Upper East Side 627.0\n",
      "West Brighton 627.0\n",
      "Clinton Hill 628.0\n",
      "Cypress Hills 628.0\n",
      "Sunset Park 628.5\n",
      "Arrochar 629.0\n",
      "Chelsea 630.0\n",
      "Allerton 630.0\n",
      "Civic Center 630.0\n",
      "Chinatown 630.5\n",
      "Lower East Side 634.0\n",
      "Long Island City 634.0\n",
      "Theater District 635.0\n",
      "Woodhaven 636.0\n",
      "Queens Village 638.0\n",
      "Woodside 639.0\n",
      "Nolita 639.0\n",
      "Bushwick 640.0\n",
      "East Flatbush 640.0\n",
      "Rockaway Beach 641.0\n",
      "Tribeca 641.0\n",
      "Greenwich Village 642.0\n",
      "Melrose 643.0\n",
      "Astoria 645.0\n",
      "Elmhurst 646.0\n",
      "Roosevelt Island 647.0\n",
      "Parkchester 650.0\n",
      "West Village 650.5\n",
      "University Heights 654.0\n",
      "Glendale 659.0\n",
      "Ridgewood 659.5\n",
      "Brighton Beach 660.0\n",
      "Stapleton 661.5\n",
      "East Elmhurst 662.0\n",
      "Flatbush 665.0\n",
      "Prospect-Lefferts Gardens 665.5\n",
      "Kew Gardens 666.0\n",
      "Tottenville 668.0\n",
      "Throgs Neck 669.0\n",
      "South Slope 670.5\n",
      "Stuyvesant Town 671.0\n",
      "Prospect Heights 674.0\n",
      "Highbridge 674.0\n",
      "Fieldston 675.0\n",
      "Arverne 676.0\n",
      "Whitestone 679.5\n",
      "Fordham 680.0\n",
      "Soundview 681.0\n",
      "Holliswood 682.0\n",
      "Belmont 682.0\n",
      "Inwood 684.0\n",
      "Woodlawn 684.0\n",
      "City Island 689.0\n",
      "Clifton 690.0\n",
      "Brownsville 690.0\n",
      "Manhattan Beach 698.0\n",
      "Bellerose 699.0\n",
      "New Brighton 703.0\n",
      "Concourse 704.0\n",
      "NoHo 713.0\n",
      "Longwood 714.0\n",
      "College Point 714.0\n",
      "Coney Island 719.0\n",
      "Norwood 724.5\n",
      "Morris Heights 725.5\n",
      "Dongan Hills 731.0\n",
      "St. George 732.0\n",
      "Briarwood 732.0\n",
      "Ozone Park 734.0\n",
      "Olinville 736.0\n",
      "Cambria Heights 760.0\n",
      "Pelham Bay 769.0\n",
      "Columbia St 771.0\n",
      "Mill Basin 774.5\n",
      "North Riverdale 776.5\n",
      "Gravesend 790.5\n",
      "Kew Gardens Hills 794.0\n",
      "Morris Park 798.0\n",
      "Bath Beach 825.0\n",
      "Shore Acres 896.0\n",
      "East Morrisania 920.0\n",
      "Riverdale 937.0\n",
      "Midland Beach 957.0\n",
      "Jamaica Hills 971.0\n"
     ]
    }
   ],
   "source": [
    "sorted_med = dict(sorted(med_price.items(), key=lambda item: item[1]))\n",
    "\n",
    "for i in sorted_med:\n",
    "    print(i, sorted_med[i])"
   ]
  },
  {
   "cell_type": "code",
   "execution_count": 486,
   "metadata": {},
   "outputs": [
    {
     "data": {
      "text/plain": [
       "30490    1044.0\n",
       "62175    1048.0\n",
       "73448    1044.0\n",
       "93423    1044.0\n",
       "Name: price, dtype: float64"
      ]
     },
     "execution_count": 486,
     "metadata": {},
     "output_type": "execute_result"
    }
   ],
   "source": [
    "\n",
    "df[df['neighbourhood'] == 'New Dorp'].price"
   ]
  },
  {
   "cell_type": "code",
   "execution_count": 487,
   "metadata": {},
   "outputs": [
    {
     "data": {
      "text/html": [
       "<div>\n",
       "<style scoped>\n",
       "    .dataframe tbody tr th:only-of-type {\n",
       "        vertical-align: middle;\n",
       "    }\n",
       "\n",
       "    .dataframe tbody tr th {\n",
       "        vertical-align: top;\n",
       "    }\n",
       "\n",
       "    .dataframe thead th {\n",
       "        text-align: right;\n",
       "    }\n",
       "</style>\n",
       "<table border=\"1\" class=\"dataframe\">\n",
       "  <thead>\n",
       "    <tr style=\"text-align: right;\">\n",
       "      <th></th>\n",
       "      <th>neighbourhood</th>\n",
       "      <th>count</th>\n",
       "    </tr>\n",
       "  </thead>\n",
       "  <tbody>\n",
       "    <tr>\n",
       "      <th>0</th>\n",
       "      <td>Allerton</td>\n",
       "      <td>97</td>\n",
       "    </tr>\n",
       "    <tr>\n",
       "      <th>1</th>\n",
       "      <td>Arden Heights</td>\n",
       "      <td>9</td>\n",
       "    </tr>\n",
       "    <tr>\n",
       "      <th>2</th>\n",
       "      <td>Arrochar</td>\n",
       "      <td>52</td>\n",
       "    </tr>\n",
       "    <tr>\n",
       "      <th>3</th>\n",
       "      <td>Arverne</td>\n",
       "      <td>223</td>\n",
       "    </tr>\n",
       "    <tr>\n",
       "      <th>4</th>\n",
       "      <td>Astoria</td>\n",
       "      <td>1876</td>\n",
       "    </tr>\n",
       "    <tr>\n",
       "      <th>...</th>\n",
       "      <td>...</td>\n",
       "      <td>...</td>\n",
       "    </tr>\n",
       "    <tr>\n",
       "      <th>219</th>\n",
       "      <td>Windsor Terrace</td>\n",
       "      <td>331</td>\n",
       "    </tr>\n",
       "    <tr>\n",
       "      <th>220</th>\n",
       "      <td>Woodhaven</td>\n",
       "      <td>192</td>\n",
       "    </tr>\n",
       "    <tr>\n",
       "      <th>221</th>\n",
       "      <td>Woodlawn</td>\n",
       "      <td>29</td>\n",
       "    </tr>\n",
       "    <tr>\n",
       "      <th>222</th>\n",
       "      <td>Woodrow</td>\n",
       "      <td>3</td>\n",
       "    </tr>\n",
       "    <tr>\n",
       "      <th>223</th>\n",
       "      <td>Woodside</td>\n",
       "      <td>588</td>\n",
       "    </tr>\n",
       "  </tbody>\n",
       "</table>\n",
       "<p>224 rows × 2 columns</p>\n",
       "</div>"
      ],
      "text/plain": [
       "       neighbourhood  count\n",
       "0           Allerton     97\n",
       "1      Arden Heights      9\n",
       "2           Arrochar     52\n",
       "3            Arverne    223\n",
       "4            Astoria   1876\n",
       "..               ...    ...\n",
       "219  Windsor Terrace    331\n",
       "220        Woodhaven    192\n",
       "221         Woodlawn     29\n",
       "222          Woodrow      3\n",
       "223         Woodside    588\n",
       "\n",
       "[224 rows x 2 columns]"
      ]
     },
     "execution_count": 487,
     "metadata": {},
     "output_type": "execute_result"
    }
   ],
   "source": [
    "nbhd = df.groupby('neighbourhood').size().reset_index().rename(columns = {0:'count'})\n",
    "nbhd"
   ]
  },
  {
   "cell_type": "code",
   "execution_count": 488,
   "metadata": {},
   "outputs": [
    {
     "data": {
      "application/vnd.plotly.v1+json": {
       "config": {
        "plotlyServerURL": "https://plot.ly"
       },
       "data": [
        {
         "marker": {
          "color": "LightSkyBlue"
         },
         "mode": "markers",
         "name": "Brooklyn",
         "type": "scatter",
         "x": [
          "Navy Yard",
          "DUMBO",
          "Fort Hamilton",
          "Sea Gate",
          "Windsor Terrace",
          "Bergen Beach",
          "Bensonhurst",
          "Downtown Brooklyn",
          "Midwood",
          "Brooklyn Heights",
          "East New York",
          "Park Slope",
          "Kensington",
          "Borough Park",
          "Greenpoint",
          "Fort Greene",
          "Bay Ridge",
          "Dyker Heights",
          "Crown Heights",
          "Cypress Hills",
          "Bedford-Stuyvesant",
          "Sheepshead Bay",
          "Williamsburg",
          "Boerum Hill",
          "Canarsie",
          "Sunset Park",
          "Red Hook",
          "Clinton Hill",
          "Bushwick",
          "Vinegar Hill",
          "Cobble Hill",
          "Gowanus",
          "Flatlands",
          "Carroll Gardens",
          "East Flatbush",
          "Prospect-Lefferts Gardens",
          "South Slope",
          "Prospect Heights",
          "Flatbush",
          "Brighton Beach",
          "Brownsville",
          "Manhattan Beach",
          "Coney Island",
          "Gravesend",
          "Columbia St",
          "Bath Beach",
          "Mill Basin"
         ],
         "y": [
          481.93548387096774,
          568.2428571428571,
          569.05,
          572.7,
          579.7848484848485,
          583.3,
          591.9108280254777,
          596.4571428571429,
          596.7905982905983,
          601.3506493506494,
          605.8892561983471,
          607.7882703777336,
          610.7642276422764,
          610.9213483146067,
          612.4127281235377,
          614.0337909186906,
          616.1809210526316,
          617.44,
          617.5316728167281,
          620.2754491017964,
          622.9834616841308,
          624.9485094850949,
          625.5364878803507,
          627.0251396648044,
          628.0947630922693,
          629.6535796766743,
          631.3539325842696,
          633.2820738137083,
          633.3385018123238,
          635.1805555555555,
          635.7839195979899,
          643.2073170731708,
          643.2222222222222,
          643.6464435146444,
          644.4884297520662,
          644.6563573883161,
          649.2799295774648,
          650.7467811158798,
          650.9536321483771,
          658.3988095238095,
          671.5194805194806,
          694.7727272727273,
          695.26,
          698.0704225352113,
          716.6629213483146,
          725.2708333333334,
          775.1428571428571
         ]
        },
        {
         "marker": {
          "color": "Purple"
         },
         "mode": "markers",
         "name": "Bronx",
         "type": "scatter",
         "x": [
          "Castle Hill",
          "Baychester",
          "Unionport",
          "Tremont",
          "Concourse Village",
          "Westchester Square",
          "Morrisania",
          "Kingsbridge",
          "Melrose",
          "Bronxdale",
          "Port Morris",
          "Woodlawn",
          "Clason Point",
          "Van Nest",
          "Mott Haven",
          "Edenwald",
          "Hunts Point",
          "Pelham Gardens",
          "Soundview",
          "University Heights",
          "Mount Hope",
          "Williamsbridge",
          "Wakefield",
          "Norwood",
          "Parkchester",
          "Allerton",
          "Claremont Village",
          "Mount Eden",
          "Fordham",
          "City Island",
          "Schuylerville",
          "Longwood",
          "Belmont",
          "Concourse",
          "Highbridge",
          "Olinville",
          "Eastchester",
          "Throgs Neck",
          "Fieldston",
          "Morris Park",
          "North Riverdale",
          "Pelham Bay",
          "Morris Heights",
          "East Morrisania",
          "Riverdale"
         ],
         "y": [
          485.1818181818182,
          524,
          541.9047619047619,
          543.5333333333333,
          547.0131578947369,
          560.2173913043479,
          571.9090909090909,
          573.3963414634146,
          574,
          574.1702127659574,
          575.2626262626262,
          587.1379310344828,
          590.5918367346939,
          590.7692307692307,
          602.6241610738255,
          607.5142857142857,
          610.4905660377359,
          611.4864864864865,
          614.3939393939394,
          618.4,
          626.2037037037037,
          628.7083333333334,
          631.9496855345911,
          632.6052631578947,
          633.2626262626262,
          636.34375,
          636.3728813559322,
          644.5555555555555,
          644.9013157894736,
          647.2926829268292,
          659.3617021276596,
          671.0074074074074,
          672.4888888888889,
          674.430894308943,
          676.0298507462686,
          677.5217391304348,
          680.2758620689655,
          680.9137931034483,
          696.24,
          706.6222222222223,
          736.25,
          740.0454545454545,
          742.8913043478261,
          764.6666666666666,
          768.7368421052631
         ]
        },
        {
         "marker": {
          "color": "orange"
         },
         "mode": "markers",
         "name": "Queens",
         "type": "scatter",
         "x": [
          "Douglaston",
          "Howard Beach",
          "Holliswood",
          "Hollis",
          "Richmond Hill",
          "Bayside",
          "Fresh Meadows",
          "Laurelton",
          "Middle Village",
          "Bayswater",
          "Whitestone",
          "Forest Hills",
          "Maspeth",
          "Belle Harbor",
          "South Ozone Park",
          "Rosedale",
          "Corona",
          "St. Albans",
          "Sunnyside",
          "Springfield Gardens",
          "Bellerose",
          "Ditmars Steinway",
          "Jamaica",
          "Jackson Heights",
          "Edgemere",
          "Woodhaven",
          "Far Rockaway",
          "Elmhurst",
          "Jamaica Estates",
          "Flushing",
          "Woodside",
          "Rego Park",
          "Kew Gardens",
          "Astoria",
          "Ridgewood",
          "Rockaway Beach",
          "Long Island City",
          "Arverne",
          "Glendale",
          "Ozone Park",
          "Queens Village",
          "College Point",
          "East Elmhurst",
          "Kew Gardens Hills",
          "Cambria Heights",
          "Briarwood",
          "Jamaica Hills"
         ],
         "y": [
          488.95454545454544,
          546.36,
          546.9,
          554.9090909090909,
          557.2669683257918,
          562.5322580645161,
          564.36,
          581.0746268656717,
          581.7462686567164,
          582.625,
          583,
          593.2565789473684,
          597.0426356589147,
          600.741935483871,
          602.6535433070866,
          606.140350877193,
          610.025,
          612.1388888888889,
          613.773417721519,
          617.2298387096774,
          622.2307692307693,
          623.3751824817518,
          624.9223300970874,
          627.5582959641256,
          630.5,
          630.5183246073299,
          631.4871794871794,
          632.2843691148776,
          632.9375,
          633.25,
          634.5883361921098,
          636.2553191489362,
          638.0361445783133,
          639.0352752538749,
          639.3962472406181,
          640.7700534759358,
          647.3582608695652,
          652.1255605381166,
          652.884892086331,
          654.1866666666666,
          661.9115646258504,
          669.1458333333334,
          669.7107438016529,
          690.3939393939394,
          690.7215189873418,
          703.5798319327731,
          812.9047619047619
         ]
        },
        {
         "marker": {
          "color": "Green"
         },
         "mode": "markers",
         "name": "Staten Island",
         "type": "scatter",
         "x": [
          "Castleton Corners",
          "Emerson Hill",
          "Randall Manor",
          "Oakwood",
          "South Beach",
          "Rosebank",
          "New Springville",
          "Port Richmond",
          "Grant City",
          "Bull's Head",
          "New Dorp Beach",
          "Concord",
          "Tompkinsville",
          "Arrochar",
          "Mariners Harbor",
          "West Brighton",
          "St. George",
          "Tottenville",
          "Dongan Hills",
          "Grymes Hill",
          "Great Kills",
          "New Brighton",
          "Stapleton",
          "Clifton",
          "Shore Acres",
          "Midland Beach"
         ],
         "y": [
          417.2307692307692,
          443.8,
          472.4,
          480.64285714285717,
          512.6875,
          523.4285714285714,
          538.8333333333334,
          555.68,
          558.2272727272727,
          574.25,
          598.75,
          605.360655737705,
          616.0366972477065,
          625.7647058823529,
          633.52,
          638.0169491525423,
          651.928,
          657.6923076923077,
          675.1538461538462,
          675.8888888888889,
          682.875,
          696.9333333333333,
          699.234375,
          702,
          792.2608695652174,
          796.1764705882352
         ]
        },
        {
         "marker": {
          "color": "Red"
         },
         "mode": "markers",
         "name": "Manhatten",
         "type": "scatter",
         "x": [
          "Marble Hill",
          "Battery Park City",
          "Washington Heights",
          "Midtown",
          "Kips Bay",
          "Little Italy",
          "Flatiron District",
          "Gramercy",
          "Upper West Side",
          "Murray Hill",
          "East Village",
          "Upper East Side",
          "Hell's Kitchen",
          "Two Bridges",
          "Financial District",
          "Morningside Heights",
          "Civic Center",
          "Lower East Side",
          "Harlem",
          "East Harlem",
          "Roosevelt Island",
          "Chinatown",
          "Nolita",
          "Chelsea",
          "Theater District",
          "SoHo",
          "Tribeca",
          "West Village",
          "Greenwich Village",
          "Inwood",
          "NoHo",
          "Stuyvesant Town"
         ],
         "y": [
          497.14285714285717,
          591.0593220338983,
          602.1822272215973,
          609.5470414201184,
          610.3020719738277,
          610.7111913357401,
          613.1012658227849,
          614.959479015919,
          616.5268621853102,
          617.2562761506276,
          617.4988485895221,
          618.1973827699019,
          621.065387528402,
          621.1742424242424,
          623.5799731182796,
          624.9574132492114,
          626.1214953271028,
          626.5617919670443,
          626.8024193548387,
          626.9288774635818,
          629.7295597484276,
          629.9263959390863,
          631.3856332703214,
          633.5008771929824,
          635.0070796460177,
          636.2863436123348,
          636.863768115942,
          638.2128378378378,
          639.8067567567567,
          661.7087912087912,
          664.3093525179856,
          680.9156626506024
         ]
        },
        {
         "marker": {
          "color": "LightSkyBlue"
         },
         "mode": "markers",
         "name": "Brooklyn",
         "type": "scatter",
         "x": [
          "Manhattan Beach",
          "Bergen Beach",
          "DUMBO",
          "Sea Gate",
          "Coney Island",
          "Windsor Terrace",
          "Red Hook",
          "Prospect Heights",
          "Bay Ridge",
          "Gowanus",
          "Bath Beach",
          "Brooklyn Heights",
          "Flatlands",
          "Vinegar Hill",
          "Cobble Hill",
          "South Slope",
          "Fort Greene",
          "Sunset Park",
          "Dyker Heights",
          "Greenpoint",
          "Clinton Hill",
          "Flatbush",
          "Sheepshead Bay",
          "Park Slope",
          "Williamsburg",
          "Carroll Gardens",
          "Bushwick",
          "Bensonhurst",
          "Bedford-Stuyvesant",
          "Crown Heights",
          "Boerum Hill",
          "East Flatbush",
          "Prospect-Lefferts Gardens",
          "Gravesend",
          "Kensington",
          "Cypress Hills",
          "East New York",
          "Navy Yard",
          "Canarsie",
          "Columbia St",
          "Downtown Brooklyn",
          "Brighton Beach",
          "Midwood",
          "Fort Hamilton",
          "Borough Park",
          "Brownsville",
          "Mill Basin"
         ],
         "y": [
          2.409090909090909,
          2.8333333333333335,
          2.8714285714285714,
          3,
          3.08,
          3.1,
          3.1123595505617976,
          3.125,
          3.1282894736842106,
          3.133874239350913,
          3.1458333333333335,
          3.150326797385621,
          3.1705069124423964,
          3.1714285714285713,
          3.1758793969849246,
          3.187279151943463,
          3.1983032873807,
          3.1983758700696057,
          3.2,
          3.2144194756554305,
          3.2177348551360843,
          3.235658914728682,
          3.2418478260869565,
          3.243781094527363,
          3.2479680041284995,
          3.2698744769874475,
          3.276056338028169,
          3.2774193548387096,
          3.281277616462568,
          3.2839582052858023,
          3.2905027932960893,
          3.2958677685950413,
          3.2988802756244615,
          3.3098591549295775,
          3.323369565217391,
          3.3323353293413174,
          3.3526490066225167,
          3.3548387096774195,
          3.3930348258706466,
          3.393258426966292,
          3.4,
          3.4047619047619047,
          3.465811965811966,
          3.475,
          3.4831460674157304,
          3.4836601307189543,
          3.7857142857142856
         ]
        },
        {
         "marker": {
          "color": "Purple"
         },
         "mode": "markers",
         "name": "Bronx",
         "type": "scatter",
         "x": [
          "Highbridge",
          "Castle Hill",
          "Olinville",
          "Concourse",
          "Norwood",
          "Eastchester",
          "East Morrisania",
          "Morris Park",
          "Morris Heights",
          "Hunts Point",
          "Bronxdale",
          "Riverdale",
          "Van Nest",
          "Allerton",
          "Belmont",
          "Mount Hope",
          "Fordham",
          "Woodlawn",
          "Port Morris",
          "Parkchester",
          "Pelham Gardens",
          "Wakefield",
          "Longwood",
          "Tremont",
          "North Riverdale",
          "Fieldston",
          "Kingsbridge",
          "Claremont Village",
          "Mott Haven",
          "Concourse Village",
          "Pelham Bay",
          "Morrisania",
          "Soundview",
          "Throgs Neck",
          "University Heights",
          "Clason Point",
          "Schuylerville",
          "Baychester",
          "Williamsbridge",
          "Edenwald",
          "Melrose",
          "Unionport",
          "Westchester Square",
          "City Island",
          "Mount Eden"
         ],
         "y": [
          3.029850746268657,
          3.0454545454545454,
          3.0869565217391304,
          3.089430894308943,
          3.1052631578947367,
          3.1379310344827585,
          3.142857142857143,
          3.1777777777777776,
          3.1956521739130435,
          3.207547169811321,
          3.2083333333333335,
          3.210526315789474,
          3.230769230769231,
          3.2783505154639174,
          3.2888888888888888,
          3.2962962962962963,
          3.3006535947712417,
          3.310344827586207,
          3.313131313131313,
          3.313131313131313,
          3.3378378378378377,
          3.339622641509434,
          3.348148148148148,
          3.3548387096774195,
          3.357142857142857,
          3.36,
          3.3636363636363638,
          3.3728813559322033,
          3.3758389261744965,
          3.3815789473684212,
          3.3863636363636362,
          3.3863636363636362,
          3.393939393939394,
          3.413793103448276,
          3.418181818181818,
          3.5,
          3.5106382978723403,
          3.5172413793103448,
          3.5208333333333335,
          3.5428571428571427,
          3.5652173913043477,
          3.6363636363636362,
          3.652173913043478,
          3.707317073170732,
          3.7777777777777777
         ]
        },
        {
         "marker": {
          "color": "orange"
         },
         "mode": "markers",
         "name": "Queens",
         "type": "scatter",
         "x": [
          "Jamaica Hills",
          "Edgemere",
          "Whitestone",
          "Douglaston",
          "Glendale",
          "Fresh Meadows",
          "Belle Harbor",
          "Arverne",
          "Astoria",
          "Bayside",
          "Queens Village",
          "Middle Village",
          "Corona",
          "Long Island City",
          "Laurelton",
          "Howard Beach",
          "Flushing",
          "Rego Park",
          "Jackson Heights",
          "Woodhaven",
          "Kew Gardens Hills",
          "Maspeth",
          "Cambria Heights",
          "Richmond Hill",
          "East Elmhurst",
          "Rockaway Beach",
          "Kew Gardens",
          "Elmhurst",
          "Springfield Gardens",
          "Forest Hills",
          "Ditmars Steinway",
          "Bellerose",
          "South Ozone Park",
          "Sunnyside",
          "Ridgewood",
          "Holliswood",
          "Jamaica",
          "Woodside",
          "College Point",
          "St. Albans",
          "Bayswater",
          "Jamaica Estates",
          "Rosedale",
          "Briarwood",
          "Ozone Park",
          "Hollis",
          "Far Rockaway"
         ],
         "y": [
          2.6666666666666665,
          2.96875,
          3,
          3,
          3.0071942446043165,
          3.07,
          3.161290322580645,
          3.2286995515695067,
          3.2297441364605546,
          3.2419354838709675,
          3.2448979591836733,
          3.2686567164179103,
          3.26875,
          3.2756521739130435,
          3.2794117647058822,
          3.28,
          3.2873096446700507,
          3.2966101694915255,
          3.3028953229398663,
          3.328125,
          3.3333333333333335,
          3.3410852713178296,
          3.3417721518987342,
          3.3484162895927603,
          3.353909465020576,
          3.358288770053476,
          3.36144578313253,
          3.365348399246704,
          3.379032258064516,
          3.380327868852459,
          3.383381924198251,
          3.3846153846153846,
          3.3858267716535435,
          3.3919089759797725,
          3.398678414096916,
          3.4,
          3.4006462035541194,
          3.4081632653061225,
          3.4375,
          3.439814814814815,
          3.475,
          3.48,
          3.52046783625731,
          3.5289256198347108,
          3.533333333333333,
          3.590909090909091,
          3.6025641025641026
         ]
        },
        {
         "marker": {
          "color": "Green"
         },
         "mode": "markers",
         "name": "Staten Island",
         "type": "scatter",
         "x": [
          "Tottenville",
          "West Brighton",
          "Great Kills",
          "Concord",
          "Dongan Hills",
          "Emerson Hill",
          "New Brighton",
          "Grant City",
          "Mariners Harbor",
          "Midland Beach",
          "New Springville",
          "Tompkinsville",
          "Castleton Corners",
          "Port Richmond",
          "St. George",
          "Arrochar",
          "New Dorp Beach",
          "Stapleton",
          "South Beach",
          "Randall Manor",
          "Grymes Hill",
          "Shore Acres",
          "Clifton",
          "Oakwood",
          "Bull's Head",
          "Rosebank"
         ],
         "y": [
          2.3846153846153846,
          2.9661016949152543,
          3,
          3.1311475409836067,
          3.1538461538461537,
          3.2,
          3.2,
          3.227272727272727,
          3.28,
          3.2941176470588234,
          3.3333333333333335,
          3.381818181818182,
          3.3846153846153846,
          3.4,
          3.432,
          3.4423076923076925,
          3.5833333333333335,
          3.6307692307692307,
          3.6875,
          3.688888888888889,
          3.7222222222222223,
          3.782608695652174,
          3.8205128205128207,
          3.857142857142857,
          3.9166666666666665,
          3.9285714285714284
         ]
        },
        {
         "marker": {
          "color": "Red"
         },
         "mode": "markers",
         "name": "Manhatten",
         "type": "scatter",
         "x": [
          "Marble Hill",
          "Tribeca",
          "Little Italy",
          "Inwood",
          "Chinatown",
          "Stuyvesant Town",
          "Nolita",
          "Greenwich Village",
          "Battery Park City",
          "Harlem",
          "Upper West Side",
          "West Village",
          "Morningside Heights",
          "Upper East Side",
          "Chelsea",
          "Washington Heights",
          "Roosevelt Island",
          "East Village",
          "Hell's Kitchen",
          "Flatiron District",
          "SoHo",
          "Gramercy",
          "Midtown",
          "Two Bridges",
          "East Harlem",
          "Lower East Side",
          "NoHo",
          "Murray Hill",
          "Kips Bay",
          "Theater District",
          "Financial District",
          "Civic Center"
         ],
         "y": [
          3,
          3.1739130434782608,
          3.176258992805755,
          3.1824817518248176,
          3.1911392405063292,
          3.216867469879518,
          3.2169811320754715,
          3.2231182795698925,
          3.2288135593220337,
          3.229601170874497,
          3.2406735751295335,
          3.247978436657682,
          3.2503937007874018,
          3.2516304347826086,
          3.2621444201312912,
          3.263069139966273,
          3.2641509433962264,
          3.2709049255441007,
          3.2807061790668346,
          3.2848101265822787,
          3.2875912408759125,
          3.3044733044733046,
          3.309439528023599,
          3.3181818181818183,
          3.318667236223836,
          3.3198151950718686,
          3.342857142857143,
          3.371875,
          3.383695652173913,
          3.4017699115044246,
          3.4221476510067115,
          3.467289719626168
         ]
        }
       ],
       "layout": {
        "annotations": [
         {
          "align": "left",
          "showarrow": false,
          "text": "Rating",
          "x": -0.16,
          "xref": "paper",
          "y": 1.1,
          "yref": "paper"
         },
         {
          "showarrow": false,
          "text": "Price",
          "x": -0.09,
          "xref": "paper",
          "y": 1.1,
          "yref": "paper"
         }
        ],
        "font": {
         "color": "black",
         "family": "Comic Sans MS"
        },
        "legend": {
         "title": {
          "font": {
           "color": "green"
          }
         }
        },
        "template": {
         "data": {
          "bar": [
           {
            "error_x": {
             "color": "#2a3f5f"
            },
            "error_y": {
             "color": "#2a3f5f"
            },
            "marker": {
             "line": {
              "color": "#E5ECF6",
              "width": 0.5
             },
             "pattern": {
              "fillmode": "overlay",
              "size": 10,
              "solidity": 0.2
             }
            },
            "type": "bar"
           }
          ],
          "barpolar": [
           {
            "marker": {
             "line": {
              "color": "#E5ECF6",
              "width": 0.5
             },
             "pattern": {
              "fillmode": "overlay",
              "size": 10,
              "solidity": 0.2
             }
            },
            "type": "barpolar"
           }
          ],
          "carpet": [
           {
            "aaxis": {
             "endlinecolor": "#2a3f5f",
             "gridcolor": "white",
             "linecolor": "white",
             "minorgridcolor": "white",
             "startlinecolor": "#2a3f5f"
            },
            "baxis": {
             "endlinecolor": "#2a3f5f",
             "gridcolor": "white",
             "linecolor": "white",
             "minorgridcolor": "white",
             "startlinecolor": "#2a3f5f"
            },
            "type": "carpet"
           }
          ],
          "choropleth": [
           {
            "colorbar": {
             "outlinewidth": 0,
             "ticks": ""
            },
            "type": "choropleth"
           }
          ],
          "contour": [
           {
            "colorbar": {
             "outlinewidth": 0,
             "ticks": ""
            },
            "colorscale": [
             [
              0,
              "#0d0887"
             ],
             [
              0.1111111111111111,
              "#46039f"
             ],
             [
              0.2222222222222222,
              "#7201a8"
             ],
             [
              0.3333333333333333,
              "#9c179e"
             ],
             [
              0.4444444444444444,
              "#bd3786"
             ],
             [
              0.5555555555555556,
              "#d8576b"
             ],
             [
              0.6666666666666666,
              "#ed7953"
             ],
             [
              0.7777777777777778,
              "#fb9f3a"
             ],
             [
              0.8888888888888888,
              "#fdca26"
             ],
             [
              1,
              "#f0f921"
             ]
            ],
            "type": "contour"
           }
          ],
          "contourcarpet": [
           {
            "colorbar": {
             "outlinewidth": 0,
             "ticks": ""
            },
            "type": "contourcarpet"
           }
          ],
          "heatmap": [
           {
            "colorbar": {
             "outlinewidth": 0,
             "ticks": ""
            },
            "colorscale": [
             [
              0,
              "#0d0887"
             ],
             [
              0.1111111111111111,
              "#46039f"
             ],
             [
              0.2222222222222222,
              "#7201a8"
             ],
             [
              0.3333333333333333,
              "#9c179e"
             ],
             [
              0.4444444444444444,
              "#bd3786"
             ],
             [
              0.5555555555555556,
              "#d8576b"
             ],
             [
              0.6666666666666666,
              "#ed7953"
             ],
             [
              0.7777777777777778,
              "#fb9f3a"
             ],
             [
              0.8888888888888888,
              "#fdca26"
             ],
             [
              1,
              "#f0f921"
             ]
            ],
            "type": "heatmap"
           }
          ],
          "heatmapgl": [
           {
            "colorbar": {
             "outlinewidth": 0,
             "ticks": ""
            },
            "colorscale": [
             [
              0,
              "#0d0887"
             ],
             [
              0.1111111111111111,
              "#46039f"
             ],
             [
              0.2222222222222222,
              "#7201a8"
             ],
             [
              0.3333333333333333,
              "#9c179e"
             ],
             [
              0.4444444444444444,
              "#bd3786"
             ],
             [
              0.5555555555555556,
              "#d8576b"
             ],
             [
              0.6666666666666666,
              "#ed7953"
             ],
             [
              0.7777777777777778,
              "#fb9f3a"
             ],
             [
              0.8888888888888888,
              "#fdca26"
             ],
             [
              1,
              "#f0f921"
             ]
            ],
            "type": "heatmapgl"
           }
          ],
          "histogram": [
           {
            "marker": {
             "pattern": {
              "fillmode": "overlay",
              "size": 10,
              "solidity": 0.2
             }
            },
            "type": "histogram"
           }
          ],
          "histogram2d": [
           {
            "colorbar": {
             "outlinewidth": 0,
             "ticks": ""
            },
            "colorscale": [
             [
              0,
              "#0d0887"
             ],
             [
              0.1111111111111111,
              "#46039f"
             ],
             [
              0.2222222222222222,
              "#7201a8"
             ],
             [
              0.3333333333333333,
              "#9c179e"
             ],
             [
              0.4444444444444444,
              "#bd3786"
             ],
             [
              0.5555555555555556,
              "#d8576b"
             ],
             [
              0.6666666666666666,
              "#ed7953"
             ],
             [
              0.7777777777777778,
              "#fb9f3a"
             ],
             [
              0.8888888888888888,
              "#fdca26"
             ],
             [
              1,
              "#f0f921"
             ]
            ],
            "type": "histogram2d"
           }
          ],
          "histogram2dcontour": [
           {
            "colorbar": {
             "outlinewidth": 0,
             "ticks": ""
            },
            "colorscale": [
             [
              0,
              "#0d0887"
             ],
             [
              0.1111111111111111,
              "#46039f"
             ],
             [
              0.2222222222222222,
              "#7201a8"
             ],
             [
              0.3333333333333333,
              "#9c179e"
             ],
             [
              0.4444444444444444,
              "#bd3786"
             ],
             [
              0.5555555555555556,
              "#d8576b"
             ],
             [
              0.6666666666666666,
              "#ed7953"
             ],
             [
              0.7777777777777778,
              "#fb9f3a"
             ],
             [
              0.8888888888888888,
              "#fdca26"
             ],
             [
              1,
              "#f0f921"
             ]
            ],
            "type": "histogram2dcontour"
           }
          ],
          "mesh3d": [
           {
            "colorbar": {
             "outlinewidth": 0,
             "ticks": ""
            },
            "type": "mesh3d"
           }
          ],
          "parcoords": [
           {
            "line": {
             "colorbar": {
              "outlinewidth": 0,
              "ticks": ""
             }
            },
            "type": "parcoords"
           }
          ],
          "pie": [
           {
            "automargin": true,
            "type": "pie"
           }
          ],
          "scatter": [
           {
            "fillpattern": {
             "fillmode": "overlay",
             "size": 10,
             "solidity": 0.2
            },
            "type": "scatter"
           }
          ],
          "scatter3d": [
           {
            "line": {
             "colorbar": {
              "outlinewidth": 0,
              "ticks": ""
             }
            },
            "marker": {
             "colorbar": {
              "outlinewidth": 0,
              "ticks": ""
             }
            },
            "type": "scatter3d"
           }
          ],
          "scattercarpet": [
           {
            "marker": {
             "colorbar": {
              "outlinewidth": 0,
              "ticks": ""
             }
            },
            "type": "scattercarpet"
           }
          ],
          "scattergeo": [
           {
            "marker": {
             "colorbar": {
              "outlinewidth": 0,
              "ticks": ""
             }
            },
            "type": "scattergeo"
           }
          ],
          "scattergl": [
           {
            "marker": {
             "colorbar": {
              "outlinewidth": 0,
              "ticks": ""
             }
            },
            "type": "scattergl"
           }
          ],
          "scattermapbox": [
           {
            "marker": {
             "colorbar": {
              "outlinewidth": 0,
              "ticks": ""
             }
            },
            "type": "scattermapbox"
           }
          ],
          "scatterpolar": [
           {
            "marker": {
             "colorbar": {
              "outlinewidth": 0,
              "ticks": ""
             }
            },
            "type": "scatterpolar"
           }
          ],
          "scatterpolargl": [
           {
            "marker": {
             "colorbar": {
              "outlinewidth": 0,
              "ticks": ""
             }
            },
            "type": "scatterpolargl"
           }
          ],
          "scatterternary": [
           {
            "marker": {
             "colorbar": {
              "outlinewidth": 0,
              "ticks": ""
             }
            },
            "type": "scatterternary"
           }
          ],
          "surface": [
           {
            "colorbar": {
             "outlinewidth": 0,
             "ticks": ""
            },
            "colorscale": [
             [
              0,
              "#0d0887"
             ],
             [
              0.1111111111111111,
              "#46039f"
             ],
             [
              0.2222222222222222,
              "#7201a8"
             ],
             [
              0.3333333333333333,
              "#9c179e"
             ],
             [
              0.4444444444444444,
              "#bd3786"
             ],
             [
              0.5555555555555556,
              "#d8576b"
             ],
             [
              0.6666666666666666,
              "#ed7953"
             ],
             [
              0.7777777777777778,
              "#fb9f3a"
             ],
             [
              0.8888888888888888,
              "#fdca26"
             ],
             [
              1,
              "#f0f921"
             ]
            ],
            "type": "surface"
           }
          ],
          "table": [
           {
            "cells": {
             "fill": {
              "color": "#EBF0F8"
             },
             "line": {
              "color": "white"
             }
            },
            "header": {
             "fill": {
              "color": "#C8D4E3"
             },
             "line": {
              "color": "white"
             }
            },
            "type": "table"
           }
          ]
         },
         "layout": {
          "annotationdefaults": {
           "arrowcolor": "#2a3f5f",
           "arrowhead": 0,
           "arrowwidth": 1
          },
          "autotypenumbers": "strict",
          "coloraxis": {
           "colorbar": {
            "outlinewidth": 0,
            "ticks": ""
           }
          },
          "colorscale": {
           "diverging": [
            [
             0,
             "#8e0152"
            ],
            [
             0.1,
             "#c51b7d"
            ],
            [
             0.2,
             "#de77ae"
            ],
            [
             0.3,
             "#f1b6da"
            ],
            [
             0.4,
             "#fde0ef"
            ],
            [
             0.5,
             "#f7f7f7"
            ],
            [
             0.6,
             "#e6f5d0"
            ],
            [
             0.7,
             "#b8e186"
            ],
            [
             0.8,
             "#7fbc41"
            ],
            [
             0.9,
             "#4d9221"
            ],
            [
             1,
             "#276419"
            ]
           ],
           "sequential": [
            [
             0,
             "#0d0887"
            ],
            [
             0.1111111111111111,
             "#46039f"
            ],
            [
             0.2222222222222222,
             "#7201a8"
            ],
            [
             0.3333333333333333,
             "#9c179e"
            ],
            [
             0.4444444444444444,
             "#bd3786"
            ],
            [
             0.5555555555555556,
             "#d8576b"
            ],
            [
             0.6666666666666666,
             "#ed7953"
            ],
            [
             0.7777777777777778,
             "#fb9f3a"
            ],
            [
             0.8888888888888888,
             "#fdca26"
            ],
            [
             1,
             "#f0f921"
            ]
           ],
           "sequentialminus": [
            [
             0,
             "#0d0887"
            ],
            [
             0.1111111111111111,
             "#46039f"
            ],
            [
             0.2222222222222222,
             "#7201a8"
            ],
            [
             0.3333333333333333,
             "#9c179e"
            ],
            [
             0.4444444444444444,
             "#bd3786"
            ],
            [
             0.5555555555555556,
             "#d8576b"
            ],
            [
             0.6666666666666666,
             "#ed7953"
            ],
            [
             0.7777777777777778,
             "#fb9f3a"
            ],
            [
             0.8888888888888888,
             "#fdca26"
            ],
            [
             1,
             "#f0f921"
            ]
           ]
          },
          "colorway": [
           "#636efa",
           "#EF553B",
           "#00cc96",
           "#ab63fa",
           "#FFA15A",
           "#19d3f3",
           "#FF6692",
           "#B6E880",
           "#FF97FF",
           "#FECB52"
          ],
          "font": {
           "color": "#2a3f5f"
          },
          "geo": {
           "bgcolor": "white",
           "lakecolor": "white",
           "landcolor": "#E5ECF6",
           "showlakes": true,
           "showland": true,
           "subunitcolor": "white"
          },
          "hoverlabel": {
           "align": "left"
          },
          "hovermode": "closest",
          "mapbox": {
           "style": "light"
          },
          "paper_bgcolor": "white",
          "plot_bgcolor": "#E5ECF6",
          "polar": {
           "angularaxis": {
            "gridcolor": "white",
            "linecolor": "white",
            "ticks": ""
           },
           "bgcolor": "#E5ECF6",
           "radialaxis": {
            "gridcolor": "white",
            "linecolor": "white",
            "ticks": ""
           }
          },
          "scene": {
           "xaxis": {
            "backgroundcolor": "#E5ECF6",
            "gridcolor": "white",
            "gridwidth": 2,
            "linecolor": "white",
            "showbackground": true,
            "ticks": "",
            "zerolinecolor": "white"
           },
           "yaxis": {
            "backgroundcolor": "#E5ECF6",
            "gridcolor": "white",
            "gridwidth": 2,
            "linecolor": "white",
            "showbackground": true,
            "ticks": "",
            "zerolinecolor": "white"
           },
           "zaxis": {
            "backgroundcolor": "#E5ECF6",
            "gridcolor": "white",
            "gridwidth": 2,
            "linecolor": "white",
            "showbackground": true,
            "ticks": "",
            "zerolinecolor": "white"
           }
          },
          "shapedefaults": {
           "line": {
            "color": "#2a3f5f"
           }
          },
          "ternary": {
           "aaxis": {
            "gridcolor": "white",
            "linecolor": "white",
            "ticks": ""
           },
           "baxis": {
            "gridcolor": "white",
            "linecolor": "white",
            "ticks": ""
           },
           "bgcolor": "#E5ECF6",
           "caxis": {
            "gridcolor": "white",
            "linecolor": "white",
            "ticks": ""
           }
          },
          "title": {
           "x": 0.05
          },
          "xaxis": {
           "automargin": true,
           "gridcolor": "white",
           "linecolor": "white",
           "ticks": "",
           "title": {
            "standoff": 15
           },
           "zerolinecolor": "white",
           "zerolinewidth": 2
          },
          "yaxis": {
           "automargin": true,
           "gridcolor": "white",
           "linecolor": "white",
           "ticks": "",
           "title": {
            "standoff": 15
           },
           "zerolinecolor": "white",
           "zerolinewidth": 2
          }
         }
        },
        "title": {
         "font": {
          "color": "red",
          "family": "Comic Sans MS"
         },
         "x": 0.5,
         "xanchor": "center",
         "y": 0.9,
         "yanchor": "top"
        },
        "updatemenus": [
         {
          "buttons": [
           {
            "args": [
             {
              "visible": [
               true,
               true,
               true,
               true,
               true,
               false,
               false,
               false,
               false,
               false
              ]
             },
             {
              "title": "Average Price of an Airbnb per Neighbourhood Group"
             }
            ],
            "label": "All",
            "method": "update"
           },
           {
            "args": [
             {
              "visible": [
               true,
               false,
               false,
               false,
               false,
               false,
               false,
               false,
               false,
               false
              ]
             },
             {
              "title": "Average Price of an Airbnb in Brooklyn"
             }
            ],
            "label": "Brooklyn",
            "method": "update"
           },
           {
            "args": [
             {
              "visible": [
               false,
               true,
               false,
               false,
               false,
               false,
               false,
               false,
               false,
               false
              ]
             },
             {
              "title": "Average Price of an Airbnb in the Bronx"
             }
            ],
            "label": "Bronx",
            "method": "update"
           },
           {
            "args": [
             {
              "visible": [
               false,
               false,
               true,
               false,
               false,
               false,
               false,
               false,
               false,
               false
              ]
             },
             {
              "title": "Average Price of an Airbnb in Queens"
             }
            ],
            "label": "Queens",
            "method": "update"
           },
           {
            "args": [
             {
              "visible": [
               false,
               false,
               false,
               true,
               false,
               false,
               false,
               false,
               false,
               false
              ]
             },
             {
              "title": "Average Price of an Airbnb in Staten Island"
             }
            ],
            "label": "Staten Island",
            "method": "update"
           },
           {
            "args": [
             {
              "visible": [
               false,
               false,
               false,
               false,
               true,
               false,
               false,
               false,
               false,
               false
              ]
             },
             {
              "title": "Average Price of an Airbnb in Manhatten"
             }
            ],
            "label": "Manhatten",
            "method": "update"
           }
          ],
          "direction": "up",
          "type": "buttons"
         },
         {
          "buttons": [
           {
            "args": [
             {
              "visible": [
               false,
               false,
               false,
               false,
               false,
               true,
               true,
               true,
               true,
               true
              ]
             },
             {
              "title": "Average Rating of an Airbnb per Neighbourhood Group"
             }
            ],
            "label": "All",
            "method": "update"
           },
           {
            "args": [
             {
              "visible": [
               false,
               false,
               false,
               false,
               false,
               true,
               false,
               false,
               false,
               false
              ]
             },
             {
              "title": "Average Rating of an Airbnb in Brooklyn"
             }
            ],
            "label": "Brooklyn",
            "method": "update"
           },
           {
            "args": [
             {
              "visible": [
               false,
               false,
               false,
               false,
               false,
               false,
               true,
               false,
               false,
               false
              ]
             },
             {
              "title": "Average Rating of an Airbnb in the Bronx"
             }
            ],
            "label": "Bronx",
            "method": "update"
           },
           {
            "args": [
             {
              "visible": [
               false,
               false,
               false,
               false,
               false,
               false,
               false,
               true,
               false,
               false
              ]
             },
             {
              "title": "Average Rating of an Airbnb in Queens"
             }
            ],
            "label": "Queens",
            "method": "update"
           },
           {
            "args": [
             {
              "visible": [
               false,
               false,
               false,
               false,
               false,
               false,
               false,
               false,
               true,
               false
              ]
             },
             {
              "title": "Average Rating of an Airbnb in Staten Island"
             }
            ],
            "label": "Staten Island",
            "method": "update"
           },
           {
            "args": [
             {
              "visible": [
               false,
               false,
               false,
               false,
               false,
               false,
               false,
               false,
               false,
               true
              ]
             },
             {
              "title": "Average Rating of an Airbnb in Manhatten"
             }
            ],
            "label": "Manhatten",
            "method": "update"
           }
          ],
          "direction": "up",
          "type": "buttons",
          "x": -0.12
         }
        ]
       }
      }
     },
     "metadata": {},
     "output_type": "display_data"
    }
   ],
   "source": [
    "\n",
    "fig = go.Figure()\n",
    "fig.add_trace(\n",
    "    go.Scatter(x = list(sorted_dict_Brook.keys()),\n",
    "               y = list(sorted_dict_Brook.values()),\n",
    "               name=\"Brooklyn\",\n",
    "               mode='markers',\n",
    "               marker=dict(\n",
    "            color='LightSkyBlue',\n",
    "            )\n",
    "        ))\n",
    "fig.add_trace(\n",
    "    go.Scatter(x = list(sorted_dict_Bronx.keys()),\n",
    "               y = list(sorted_dict_Bronx.values()),\n",
    "               name=\"Bronx\",\n",
    "               mode='markers',\n",
    "               marker=dict(\n",
    "            color='Purple',\n",
    "            )\n",
    "        ))\n",
    "fig.add_trace(\n",
    "    go.Scatter(x = list(sorted_dict_Queens.keys()),\n",
    "               y = list(sorted_dict_Queens.values()),\n",
    "               name=\"Queens\",\n",
    "               mode='markers',\n",
    "               marker=dict(\n",
    "            color='orange',\n",
    "            )\n",
    "        ))\n",
    "fig.add_trace(\n",
    "    go.Scatter(x = list(sorted_dict_Stat.keys()),\n",
    "               y = list(sorted_dict_Stat.values()),\n",
    "               name=\"Staten Island\",\n",
    "               mode='markers',\n",
    "               marker=dict(\n",
    "            color='Green',\n",
    "            )\n",
    "        ))\n",
    "fig.add_trace(\n",
    "    go.Scatter(x = list(sorted_dict_Man.keys()),\n",
    "               y = list(sorted_dict_Man.values()),\n",
    "               name=\"Manhatten\",\n",
    "               mode='markers',\n",
    "               marker=dict(\n",
    "            color='Red',\n",
    "            )\n",
    "        ))\n",
    "fig.add_trace(\n",
    "    go.Scatter(x = list(sorted_rating_Brook.keys()),\n",
    "               y = list(sorted_rating_Brook.values()),\n",
    "               name=\"Brooklyn\",\n",
    "               mode='markers',\n",
    "               marker=dict(\n",
    "            color='LightSkyBlue',\n",
    "            )\n",
    "        ))\n",
    "fig.add_trace(\n",
    "    go.Scatter(x = list(sorted_rating_Bronx.keys()),\n",
    "               y = list(sorted_rating_Bronx.values()),\n",
    "               name=\"Bronx\",\n",
    "               mode='markers',\n",
    "               marker=dict(\n",
    "            color='Purple',\n",
    "            )\n",
    "        ))\n",
    "fig.add_trace(\n",
    "    go.Scatter(x = list(sorted_rating_Queens.keys()),\n",
    "               y = list(sorted_rating_Queens.values()),\n",
    "               name=\"Queens\",\n",
    "               mode='markers',\n",
    "               marker=dict(\n",
    "            color='orange',\n",
    "            )\n",
    "        ))\n",
    "fig.add_trace(\n",
    "    go.Scatter(x = list(sorted_rating_Stat.keys()),\n",
    "               y = list(sorted_rating_Stat.values()),\n",
    "               name=\"Staten Island\",\n",
    "               mode='markers',\n",
    "               marker=dict(\n",
    "            color='Green',\n",
    "            )\n",
    "        ))\n",
    "fig.add_trace(\n",
    "    go.Scatter(x = list(sorted_rating_Man.keys()),\n",
    "               y = list(sorted_rating_Man.values()),\n",
    "               name=\"Manhatten\",\n",
    "               mode='markers',\n",
    "               marker=dict(\n",
    "            color='Red',\n",
    "            )\n",
    "        ))\n",
    "fig.update_layout(\n",
    "    title={\n",
    "        'y':0.9,\n",
    "        'x':0.5,\n",
    "        'xanchor': 'center',\n",
    "        'yanchor': 'top'},\n",
    "   font_family='Comic Sans MS',\n",
    "   font_color=\"black\",\n",
    "   title_font_family=\"Comic Sans MS\",\n",
    "   title_font_color=\"red\",\n",
    "   legend_title_font_color=\"green\",\n",
    "   updatemenus=[\n",
    "        dict(\n",
    "            type=\"buttons\",\n",
    "            direction=\"up\",\n",
    "            buttons=list([\n",
    "                dict(\n",
    "                  label = \"All\", method = \"update\",\n",
    "                  args = [{\"visible\": [True, True, True, True, True, False, False, False, False, False]},{\"title\": 'Average Price of an Airbnb per Neighbourhood Group'} ]\n",
    "               ),\n",
    "                dict(\n",
    "                  label = \"Brooklyn\", method = \"update\",\n",
    "                  args = [{\"visible\": [True, False, False, False, False, False, False, False, False, False]},{\"title\": 'Average Price of an Airbnb in Brooklyn'} ]\n",
    "               ),\n",
    "               dict(\n",
    "                  label = \"Bronx\", method = \"update\",\n",
    "                  args = [{\"visible\": [False, True, False, False, False, False, False, False, False, False]},{\"title\": 'Average Price of an Airbnb in the Bronx'} ]\n",
    "               ),\n",
    "               dict(\n",
    "                  label = \"Queens\", method = \"update\",\n",
    "                  args = [{\"visible\": [False, False, True, False, False, False, False, False, False, False]},{\"title\": 'Average Price of an Airbnb in Queens'} ]\n",
    "               ),\n",
    "                dict(\n",
    "                  label = \"Staten Island\", method = \"update\",\n",
    "                  args = [{\"visible\": [False, False, False, True, False, False, False, False, False, False]},{\"title\": 'Average Price of an Airbnb in Staten Island'} ]\n",
    "               ),\n",
    "                dict(\n",
    "                  label = \"Manhatten\", method = \"update\",\n",
    "                  args = [{\"visible\": [False, False, False, False, True, False, False, False, False, False]},{\"title\": 'Average Price of an Airbnb in Manhatten'} ]\n",
    "               )\n",
    "            ]),\n",
    "        ), \n",
    "        dict(\n",
    "            type=\"buttons\",\n",
    "            direction=\"up\",\n",
    "            x=-0.12,\n",
    "            buttons=list([\n",
    "               dict(\n",
    "                  label = \"All\", method = \"update\",\n",
    "                  args = [{\"visible\": [False, False, False, False, False, True, True, True, True, True]},{\"title\": 'Average Rating of an Airbnb per Neighbourhood Group'} ]\n",
    "               ),\n",
    "                dict(\n",
    "                  label = \"Brooklyn\", method = \"update\",\n",
    "                  args = [{\"visible\": [False, False, False, False, False, True, False, False, False, False]},{\"title\": 'Average Rating of an Airbnb in Brooklyn'} ]\n",
    "               ),\n",
    "               dict(\n",
    "                  label = \"Bronx\", method = \"update\",\n",
    "                  args = [{\"visible\": [False, False, False, False, False, False, True, False, False, False]},{\"title\": 'Average Rating of an Airbnb in the Bronx'} ]\n",
    "               ),\n",
    "               dict(\n",
    "                  label = \"Queens\", method = \"update\", \n",
    "                  args = [{\"visible\": [False, False, False, False, False, False, False, True, False, False]},{\"title\": 'Average Rating of an Airbnb in Queens'} ]\n",
    "               ),\n",
    "                dict(\n",
    "                  label = \"Staten Island\", method = \"update\",\n",
    "                  args = [{\"visible\": [False, False, False, False, False, False, False, False, True, False]},{\"title\": 'Average Rating of an Airbnb in Staten Island'} ]\n",
    "               ),\n",
    "                dict(\n",
    "                  label = \"Manhatten\", method = \"update\",\n",
    "                  args = [{\"visible\": [False, False, False, False, False, False, False, False, False, True]},{\"title\": 'Average Rating of an Airbnb in Manhatten'}]\n",
    "               ),\n",
    "            ]),\n",
    "        )\n",
    "    ])\n",
    "fig.update_layout(\n",
    "    annotations=[\n",
    "        dict(text=\"Rating\", x=-0.16, xref=\"paper\", y=1.1, yref=\"paper\",\n",
    "                             align=\"left\", showarrow=False),\n",
    "        dict(text=\"Price\", x=-0.09, xref=\"paper\", y=1.1,\n",
    "                             yref=\"paper\", showarrow=False),\n",
    "    ])\n",
    "fig.show()"
   ]
  },
  {
   "cell_type": "code",
   "execution_count": 564,
   "metadata": {},
   "outputs": [
    {
     "data": {
      "application/vnd.plotly.v1+json": {
       "config": {
        "displayModeBar": false,
        "plotlyServerURL": "https://plot.ly"
       },
       "data": [
        {
         "marker": {
          "color": "LightSkyBlue"
         },
         "mode": "markers",
         "name": "Brooklyn",
         "type": "scatter",
         "x": [
          "Navy Yard",
          "DUMBO",
          "Fort Hamilton",
          "Sea Gate",
          "Windsor Terrace",
          "Bergen Beach",
          "Bensonhurst",
          "Downtown Brooklyn",
          "Midwood",
          "Brooklyn Heights",
          "East New York",
          "Park Slope",
          "Kensington",
          "Borough Park",
          "Greenpoint",
          "Fort Greene",
          "Bay Ridge",
          "Dyker Heights",
          "Crown Heights",
          "Cypress Hills",
          "Bedford-Stuyvesant",
          "Sheepshead Bay",
          "Williamsburg",
          "Boerum Hill",
          "Canarsie",
          "Sunset Park",
          "Red Hook",
          "Clinton Hill",
          "Bushwick",
          "Vinegar Hill",
          "Cobble Hill",
          "Gowanus",
          "Flatlands",
          "Carroll Gardens",
          "East Flatbush",
          "Prospect-Lefferts Gardens",
          "South Slope",
          "Prospect Heights",
          "Flatbush",
          "Brighton Beach",
          "Brownsville",
          "Manhattan Beach",
          "Coney Island",
          "Gravesend",
          "Columbia St",
          "Bath Beach",
          "Mill Basin"
         ],
         "y": [
          481.93548387096774,
          568.2428571428571,
          569.05,
          572.7,
          579.7848484848485,
          583.3,
          591.9108280254777,
          596.4571428571429,
          596.7905982905983,
          601.3506493506494,
          605.8892561983471,
          607.7882703777336,
          610.7642276422764,
          610.9213483146067,
          612.4127281235377,
          614.0337909186906,
          616.1809210526316,
          617.44,
          617.5316728167281,
          620.2754491017964,
          622.9834616841308,
          624.9485094850949,
          625.5364878803507,
          627.0251396648044,
          628.0947630922693,
          629.6535796766743,
          631.3539325842696,
          633.2820738137083,
          633.3385018123238,
          635.1805555555555,
          635.7839195979899,
          643.2073170731708,
          643.2222222222222,
          643.6464435146444,
          644.4884297520662,
          644.6563573883161,
          649.2799295774648,
          650.7467811158798,
          650.9536321483771,
          658.3988095238095,
          671.5194805194806,
          694.7727272727273,
          695.26,
          698.0704225352113,
          716.6629213483146,
          725.2708333333334,
          775.1428571428571
         ]
        },
        {
         "marker": {
          "color": "Purple"
         },
         "mode": "markers",
         "name": "Bronx",
         "type": "scatter",
         "visible": false,
         "x": [
          "Douglaston",
          "Howard Beach",
          "Holliswood",
          "Hollis",
          "Richmond Hill",
          "Bayside",
          "Fresh Meadows",
          "Laurelton",
          "Middle Village",
          "Bayswater",
          "Whitestone",
          "Forest Hills",
          "Maspeth",
          "Belle Harbor",
          "South Ozone Park",
          "Rosedale",
          "Corona",
          "St. Albans",
          "Sunnyside",
          "Springfield Gardens",
          "Bellerose",
          "Ditmars Steinway",
          "Jamaica",
          "Jackson Heights",
          "Edgemere",
          "Woodhaven",
          "Far Rockaway",
          "Elmhurst",
          "Jamaica Estates",
          "Flushing",
          "Woodside",
          "Rego Park",
          "Kew Gardens",
          "Astoria",
          "Ridgewood",
          "Rockaway Beach",
          "Long Island City",
          "Arverne",
          "Glendale",
          "Ozone Park",
          "Queens Village",
          "College Point",
          "East Elmhurst",
          "Kew Gardens Hills",
          "Cambria Heights",
          "Briarwood",
          "Jamaica Hills"
         ],
         "y": [
          488.95454545454544,
          546.36,
          546.9,
          554.9090909090909,
          557.2669683257918,
          562.5322580645161,
          564.36,
          581.0746268656717,
          581.7462686567164,
          582.625,
          583,
          593.2565789473684,
          597.0426356589147,
          600.741935483871,
          602.6535433070866,
          606.140350877193,
          610.025,
          612.1388888888889,
          613.773417721519,
          617.2298387096774,
          622.2307692307693,
          623.3751824817518,
          624.9223300970874,
          627.5582959641256,
          630.5,
          630.5183246073299,
          631.4871794871794,
          632.2843691148776,
          632.9375,
          633.25,
          634.5883361921098,
          636.2553191489362,
          638.0361445783133,
          639.0352752538749,
          639.3962472406181,
          640.7700534759358,
          647.3582608695652,
          652.1255605381166,
          652.884892086331,
          654.1866666666666,
          661.9115646258504,
          669.1458333333334,
          669.7107438016529,
          690.3939393939394,
          690.7215189873418,
          703.5798319327731,
          812.9047619047619
         ]
        },
        {
         "marker": {
          "color": "orange"
         },
         "mode": "markers",
         "name": "Queens",
         "type": "scatter",
         "visible": false,
         "x": [
          "Castle Hill",
          "Baychester",
          "Unionport",
          "Tremont",
          "Concourse Village",
          "Westchester Square",
          "Morrisania",
          "Kingsbridge",
          "Melrose",
          "Bronxdale",
          "Port Morris",
          "Woodlawn",
          "Clason Point",
          "Van Nest",
          "Mott Haven",
          "Edenwald",
          "Hunts Point",
          "Pelham Gardens",
          "Soundview",
          "University Heights",
          "Mount Hope",
          "Williamsbridge",
          "Wakefield",
          "Norwood",
          "Parkchester",
          "Allerton",
          "Claremont Village",
          "Mount Eden",
          "Fordham",
          "City Island",
          "Schuylerville",
          "Longwood",
          "Belmont",
          "Concourse",
          "Highbridge",
          "Olinville",
          "Eastchester",
          "Throgs Neck",
          "Fieldston",
          "Morris Park",
          "North Riverdale",
          "Pelham Bay",
          "Morris Heights",
          "East Morrisania",
          "Riverdale"
         ],
         "y": [
          485.1818181818182,
          524,
          541.9047619047619,
          543.5333333333333,
          547.0131578947369,
          560.2173913043479,
          571.9090909090909,
          573.3963414634146,
          574,
          574.1702127659574,
          575.2626262626262,
          587.1379310344828,
          590.5918367346939,
          590.7692307692307,
          602.6241610738255,
          607.5142857142857,
          610.4905660377359,
          611.4864864864865,
          614.3939393939394,
          618.4,
          626.2037037037037,
          628.7083333333334,
          631.9496855345911,
          632.6052631578947,
          633.2626262626262,
          636.34375,
          636.3728813559322,
          644.5555555555555,
          644.9013157894736,
          647.2926829268292,
          659.3617021276596,
          671.0074074074074,
          672.4888888888889,
          674.430894308943,
          676.0298507462686,
          677.5217391304348,
          680.2758620689655,
          680.9137931034483,
          696.24,
          706.6222222222223,
          736.25,
          740.0454545454545,
          742.8913043478261,
          764.6666666666666,
          768.7368421052631
         ]
        },
        {
         "marker": {
          "color": "Green"
         },
         "mode": "markers",
         "name": "Staten Island",
         "type": "scatter",
         "visible": false,
         "x": [
          "Castleton Corners",
          "Emerson Hill",
          "Randall Manor",
          "Oakwood",
          "South Beach",
          "Rosebank",
          "New Springville",
          "Port Richmond",
          "Grant City",
          "Bull's Head",
          "New Dorp Beach",
          "Concord",
          "Tompkinsville",
          "Arrochar",
          "Mariners Harbor",
          "West Brighton",
          "St. George",
          "Tottenville",
          "Dongan Hills",
          "Grymes Hill",
          "Great Kills",
          "New Brighton",
          "Stapleton",
          "Clifton",
          "Shore Acres",
          "Midland Beach"
         ],
         "y": [
          417.2307692307692,
          443.8,
          472.4,
          480.64285714285717,
          512.6875,
          523.4285714285714,
          538.8333333333334,
          555.68,
          558.2272727272727,
          574.25,
          598.75,
          605.360655737705,
          616.0366972477065,
          625.7647058823529,
          633.52,
          638.0169491525423,
          651.928,
          657.6923076923077,
          675.1538461538462,
          675.8888888888889,
          682.875,
          696.9333333333333,
          699.234375,
          702,
          792.2608695652174,
          796.1764705882352
         ]
        },
        {
         "marker": {
          "color": "Red"
         },
         "mode": "markers",
         "name": "Manhatten",
         "type": "scatter",
         "visible": false,
         "x": [
          "Marble Hill",
          "Battery Park City",
          "Washington Heights",
          "Midtown",
          "Kips Bay",
          "Little Italy",
          "Flatiron District",
          "Gramercy",
          "Upper West Side",
          "Murray Hill",
          "East Village",
          "Upper East Side",
          "Hell's Kitchen",
          "Two Bridges",
          "Financial District",
          "Morningside Heights",
          "Civic Center",
          "Lower East Side",
          "Harlem",
          "East Harlem",
          "Roosevelt Island",
          "Chinatown",
          "Nolita",
          "Chelsea",
          "Theater District",
          "SoHo",
          "Tribeca",
          "West Village",
          "Greenwich Village",
          "Inwood",
          "NoHo",
          "Stuyvesant Town"
         ],
         "y": [
          497.14285714285717,
          591.0593220338983,
          602.1822272215973,
          609.5470414201184,
          610.3020719738277,
          610.7111913357401,
          613.1012658227849,
          614.959479015919,
          616.5268621853102,
          617.2562761506276,
          617.4988485895221,
          618.1973827699019,
          621.065387528402,
          621.1742424242424,
          623.5799731182796,
          624.9574132492114,
          626.1214953271028,
          626.5617919670443,
          626.8024193548387,
          626.9288774635818,
          629.7295597484276,
          629.9263959390863,
          631.3856332703214,
          633.5008771929824,
          635.0070796460177,
          636.2863436123348,
          636.863768115942,
          638.2128378378378,
          639.8067567567567,
          661.7087912087912,
          664.3093525179856,
          680.9156626506024
         ]
        },
        {
         "marker": {
          "color": "LightSkyBlue"
         },
         "mode": "markers",
         "name": "Brooklyn",
         "type": "scatter",
         "visible": false,
         "x": [
          "Manhattan Beach",
          "Bergen Beach",
          "DUMBO",
          "Sea Gate",
          "Coney Island",
          "Windsor Terrace",
          "Red Hook",
          "Prospect Heights",
          "Bay Ridge",
          "Gowanus",
          "Bath Beach",
          "Brooklyn Heights",
          "Flatlands",
          "Vinegar Hill",
          "Cobble Hill",
          "South Slope",
          "Fort Greene",
          "Sunset Park",
          "Dyker Heights",
          "Greenpoint",
          "Clinton Hill",
          "Flatbush",
          "Sheepshead Bay",
          "Park Slope",
          "Williamsburg",
          "Carroll Gardens",
          "Bushwick",
          "Bensonhurst",
          "Bedford-Stuyvesant",
          "Crown Heights",
          "Boerum Hill",
          "East Flatbush",
          "Prospect-Lefferts Gardens",
          "Gravesend",
          "Kensington",
          "Cypress Hills",
          "East New York",
          "Navy Yard",
          "Canarsie",
          "Columbia St",
          "Downtown Brooklyn",
          "Brighton Beach",
          "Midwood",
          "Fort Hamilton",
          "Borough Park",
          "Brownsville",
          "Mill Basin"
         ],
         "y": [
          2.409090909090909,
          2.8333333333333335,
          2.8714285714285714,
          3,
          3.08,
          3.1,
          3.1123595505617976,
          3.125,
          3.1282894736842106,
          3.133874239350913,
          3.1458333333333335,
          3.150326797385621,
          3.1705069124423964,
          3.1714285714285713,
          3.1758793969849246,
          3.187279151943463,
          3.1983032873807,
          3.1983758700696057,
          3.2,
          3.2144194756554305,
          3.2177348551360843,
          3.235658914728682,
          3.2418478260869565,
          3.243781094527363,
          3.2479680041284995,
          3.2698744769874475,
          3.276056338028169,
          3.2774193548387096,
          3.281277616462568,
          3.2839582052858023,
          3.2905027932960893,
          3.2958677685950413,
          3.2988802756244615,
          3.3098591549295775,
          3.323369565217391,
          3.3323353293413174,
          3.3526490066225167,
          3.3548387096774195,
          3.3930348258706466,
          3.393258426966292,
          3.4,
          3.4047619047619047,
          3.465811965811966,
          3.475,
          3.4831460674157304,
          3.4836601307189543,
          3.7857142857142856
         ]
        },
        {
         "marker": {
          "color": "Purple"
         },
         "mode": "markers",
         "name": "Queens",
         "type": "scatter",
         "visible": false,
         "x": [
          "Jamaica Hills",
          "Edgemere",
          "Whitestone",
          "Douglaston",
          "Glendale",
          "Fresh Meadows",
          "Belle Harbor",
          "Arverne",
          "Astoria",
          "Bayside",
          "Queens Village",
          "Middle Village",
          "Corona",
          "Long Island City",
          "Laurelton",
          "Howard Beach",
          "Flushing",
          "Rego Park",
          "Jackson Heights",
          "Woodhaven",
          "Kew Gardens Hills",
          "Maspeth",
          "Cambria Heights",
          "Richmond Hill",
          "East Elmhurst",
          "Rockaway Beach",
          "Kew Gardens",
          "Elmhurst",
          "Springfield Gardens",
          "Forest Hills",
          "Ditmars Steinway",
          "Bellerose",
          "South Ozone Park",
          "Sunnyside",
          "Ridgewood",
          "Holliswood",
          "Jamaica",
          "Woodside",
          "College Point",
          "St. Albans",
          "Bayswater",
          "Jamaica Estates",
          "Rosedale",
          "Briarwood",
          "Ozone Park",
          "Hollis",
          "Far Rockaway"
         ],
         "y": [
          2.6666666666666665,
          2.96875,
          3,
          3,
          3.0071942446043165,
          3.07,
          3.161290322580645,
          3.2286995515695067,
          3.2297441364605546,
          3.2419354838709675,
          3.2448979591836733,
          3.2686567164179103,
          3.26875,
          3.2756521739130435,
          3.2794117647058822,
          3.28,
          3.2873096446700507,
          3.2966101694915255,
          3.3028953229398663,
          3.328125,
          3.3333333333333335,
          3.3410852713178296,
          3.3417721518987342,
          3.3484162895927603,
          3.353909465020576,
          3.358288770053476,
          3.36144578313253,
          3.365348399246704,
          3.379032258064516,
          3.380327868852459,
          3.383381924198251,
          3.3846153846153846,
          3.3858267716535435,
          3.3919089759797725,
          3.398678414096916,
          3.4,
          3.4006462035541194,
          3.4081632653061225,
          3.4375,
          3.439814814814815,
          3.475,
          3.48,
          3.52046783625731,
          3.5289256198347108,
          3.533333333333333,
          3.590909090909091,
          3.6025641025641026
         ]
        },
        {
         "marker": {
          "color": "orange"
         },
         "mode": "markers",
         "name": "Bronx",
         "type": "scatter",
         "visible": false,
         "x": [
          "Highbridge",
          "Castle Hill",
          "Olinville",
          "Concourse",
          "Norwood",
          "Eastchester",
          "East Morrisania",
          "Morris Park",
          "Morris Heights",
          "Hunts Point",
          "Bronxdale",
          "Riverdale",
          "Van Nest",
          "Allerton",
          "Belmont",
          "Mount Hope",
          "Fordham",
          "Woodlawn",
          "Port Morris",
          "Parkchester",
          "Pelham Gardens",
          "Wakefield",
          "Longwood",
          "Tremont",
          "North Riverdale",
          "Fieldston",
          "Kingsbridge",
          "Claremont Village",
          "Mott Haven",
          "Concourse Village",
          "Pelham Bay",
          "Morrisania",
          "Soundview",
          "Throgs Neck",
          "University Heights",
          "Clason Point",
          "Schuylerville",
          "Baychester",
          "Williamsbridge",
          "Edenwald",
          "Melrose",
          "Unionport",
          "Westchester Square",
          "City Island",
          "Mount Eden"
         ],
         "y": [
          3.029850746268657,
          3.0454545454545454,
          3.0869565217391304,
          3.089430894308943,
          3.1052631578947367,
          3.1379310344827585,
          3.142857142857143,
          3.1777777777777776,
          3.1956521739130435,
          3.207547169811321,
          3.2083333333333335,
          3.210526315789474,
          3.230769230769231,
          3.2783505154639174,
          3.2888888888888888,
          3.2962962962962963,
          3.3006535947712417,
          3.310344827586207,
          3.313131313131313,
          3.313131313131313,
          3.3378378378378377,
          3.339622641509434,
          3.348148148148148,
          3.3548387096774195,
          3.357142857142857,
          3.36,
          3.3636363636363638,
          3.3728813559322033,
          3.3758389261744965,
          3.3815789473684212,
          3.3863636363636362,
          3.3863636363636362,
          3.393939393939394,
          3.413793103448276,
          3.418181818181818,
          3.5,
          3.5106382978723403,
          3.5172413793103448,
          3.5208333333333335,
          3.5428571428571427,
          3.5652173913043477,
          3.6363636363636362,
          3.652173913043478,
          3.707317073170732,
          3.7777777777777777
         ]
        },
        {
         "marker": {
          "color": "Green"
         },
         "mode": "markers",
         "name": "Staten Island",
         "type": "scatter",
         "visible": false,
         "x": [
          "Tottenville",
          "West Brighton",
          "Great Kills",
          "Concord",
          "Dongan Hills",
          "Emerson Hill",
          "New Brighton",
          "Grant City",
          "Mariners Harbor",
          "Midland Beach",
          "New Springville",
          "Tompkinsville",
          "Castleton Corners",
          "Port Richmond",
          "St. George",
          "Arrochar",
          "New Dorp Beach",
          "Stapleton",
          "South Beach",
          "Randall Manor",
          "Grymes Hill",
          "Shore Acres",
          "Clifton",
          "Oakwood",
          "Bull's Head",
          "Rosebank"
         ],
         "y": [
          2.3846153846153846,
          2.9661016949152543,
          3,
          3.1311475409836067,
          3.1538461538461537,
          3.2,
          3.2,
          3.227272727272727,
          3.28,
          3.2941176470588234,
          3.3333333333333335,
          3.381818181818182,
          3.3846153846153846,
          3.4,
          3.432,
          3.4423076923076925,
          3.5833333333333335,
          3.6307692307692307,
          3.6875,
          3.688888888888889,
          3.7222222222222223,
          3.782608695652174,
          3.8205128205128207,
          3.857142857142857,
          3.9166666666666665,
          3.9285714285714284
         ]
        },
        {
         "marker": {
          "color": "Red"
         },
         "mode": "markers",
         "name": "Manhatten",
         "type": "scatter",
         "visible": false,
         "x": [
          "Marble Hill",
          "Tribeca",
          "Little Italy",
          "Inwood",
          "Chinatown",
          "Stuyvesant Town",
          "Nolita",
          "Greenwich Village",
          "Battery Park City",
          "Harlem",
          "Upper West Side",
          "West Village",
          "Morningside Heights",
          "Upper East Side",
          "Chelsea",
          "Washington Heights",
          "Roosevelt Island",
          "East Village",
          "Hell's Kitchen",
          "Flatiron District",
          "SoHo",
          "Gramercy",
          "Midtown",
          "Two Bridges",
          "East Harlem",
          "Lower East Side",
          "NoHo",
          "Murray Hill",
          "Kips Bay",
          "Theater District",
          "Financial District",
          "Civic Center"
         ],
         "y": [
          3,
          3.1739130434782608,
          3.176258992805755,
          3.1824817518248176,
          3.1911392405063292,
          3.216867469879518,
          3.2169811320754715,
          3.2231182795698925,
          3.2288135593220337,
          3.229601170874497,
          3.2406735751295335,
          3.247978436657682,
          3.2503937007874018,
          3.2516304347826086,
          3.2621444201312912,
          3.263069139966273,
          3.2641509433962264,
          3.2709049255441007,
          3.2807061790668346,
          3.2848101265822787,
          3.2875912408759125,
          3.3044733044733046,
          3.309439528023599,
          3.3181818181818183,
          3.318667236223836,
          3.3198151950718686,
          3.342857142857143,
          3.371875,
          3.383695652173913,
          3.4017699115044246,
          3.4221476510067115,
          3.467289719626168
         ]
        }
       ],
       "layout": {
        "annotations": [
         {
          "align": "left",
          "showarrow": false,
          "text": "Rating",
          "x": 0.05,
          "xref": "paper",
          "y": 1.1,
          "yref": "paper"
         },
         {
          "showarrow": false,
          "text": "Price",
          "x": 0.67,
          "xref": "paper",
          "y": 1.1,
          "yref": "paper"
         }
        ],
        "font": {
         "color": "black",
         "family": "Comic Sans MS"
        },
        "legend": {
         "title": {
          "font": {
           "color": "green"
          }
         }
        },
        "template": {
         "data": {
          "bar": [
           {
            "error_x": {
             "color": "#2a3f5f"
            },
            "error_y": {
             "color": "#2a3f5f"
            },
            "marker": {
             "line": {
              "color": "#E5ECF6",
              "width": 0.5
             },
             "pattern": {
              "fillmode": "overlay",
              "size": 10,
              "solidity": 0.2
             }
            },
            "type": "bar"
           }
          ],
          "barpolar": [
           {
            "marker": {
             "line": {
              "color": "#E5ECF6",
              "width": 0.5
             },
             "pattern": {
              "fillmode": "overlay",
              "size": 10,
              "solidity": 0.2
             }
            },
            "type": "barpolar"
           }
          ],
          "carpet": [
           {
            "aaxis": {
             "endlinecolor": "#2a3f5f",
             "gridcolor": "white",
             "linecolor": "white",
             "minorgridcolor": "white",
             "startlinecolor": "#2a3f5f"
            },
            "baxis": {
             "endlinecolor": "#2a3f5f",
             "gridcolor": "white",
             "linecolor": "white",
             "minorgridcolor": "white",
             "startlinecolor": "#2a3f5f"
            },
            "type": "carpet"
           }
          ],
          "choropleth": [
           {
            "colorbar": {
             "outlinewidth": 0,
             "ticks": ""
            },
            "type": "choropleth"
           }
          ],
          "contour": [
           {
            "colorbar": {
             "outlinewidth": 0,
             "ticks": ""
            },
            "colorscale": [
             [
              0,
              "#0d0887"
             ],
             [
              0.1111111111111111,
              "#46039f"
             ],
             [
              0.2222222222222222,
              "#7201a8"
             ],
             [
              0.3333333333333333,
              "#9c179e"
             ],
             [
              0.4444444444444444,
              "#bd3786"
             ],
             [
              0.5555555555555556,
              "#d8576b"
             ],
             [
              0.6666666666666666,
              "#ed7953"
             ],
             [
              0.7777777777777778,
              "#fb9f3a"
             ],
             [
              0.8888888888888888,
              "#fdca26"
             ],
             [
              1,
              "#f0f921"
             ]
            ],
            "type": "contour"
           }
          ],
          "contourcarpet": [
           {
            "colorbar": {
             "outlinewidth": 0,
             "ticks": ""
            },
            "type": "contourcarpet"
           }
          ],
          "heatmap": [
           {
            "colorbar": {
             "outlinewidth": 0,
             "ticks": ""
            },
            "colorscale": [
             [
              0,
              "#0d0887"
             ],
             [
              0.1111111111111111,
              "#46039f"
             ],
             [
              0.2222222222222222,
              "#7201a8"
             ],
             [
              0.3333333333333333,
              "#9c179e"
             ],
             [
              0.4444444444444444,
              "#bd3786"
             ],
             [
              0.5555555555555556,
              "#d8576b"
             ],
             [
              0.6666666666666666,
              "#ed7953"
             ],
             [
              0.7777777777777778,
              "#fb9f3a"
             ],
             [
              0.8888888888888888,
              "#fdca26"
             ],
             [
              1,
              "#f0f921"
             ]
            ],
            "type": "heatmap"
           }
          ],
          "heatmapgl": [
           {
            "colorbar": {
             "outlinewidth": 0,
             "ticks": ""
            },
            "colorscale": [
             [
              0,
              "#0d0887"
             ],
             [
              0.1111111111111111,
              "#46039f"
             ],
             [
              0.2222222222222222,
              "#7201a8"
             ],
             [
              0.3333333333333333,
              "#9c179e"
             ],
             [
              0.4444444444444444,
              "#bd3786"
             ],
             [
              0.5555555555555556,
              "#d8576b"
             ],
             [
              0.6666666666666666,
              "#ed7953"
             ],
             [
              0.7777777777777778,
              "#fb9f3a"
             ],
             [
              0.8888888888888888,
              "#fdca26"
             ],
             [
              1,
              "#f0f921"
             ]
            ],
            "type": "heatmapgl"
           }
          ],
          "histogram": [
           {
            "marker": {
             "pattern": {
              "fillmode": "overlay",
              "size": 10,
              "solidity": 0.2
             }
            },
            "type": "histogram"
           }
          ],
          "histogram2d": [
           {
            "colorbar": {
             "outlinewidth": 0,
             "ticks": ""
            },
            "colorscale": [
             [
              0,
              "#0d0887"
             ],
             [
              0.1111111111111111,
              "#46039f"
             ],
             [
              0.2222222222222222,
              "#7201a8"
             ],
             [
              0.3333333333333333,
              "#9c179e"
             ],
             [
              0.4444444444444444,
              "#bd3786"
             ],
             [
              0.5555555555555556,
              "#d8576b"
             ],
             [
              0.6666666666666666,
              "#ed7953"
             ],
             [
              0.7777777777777778,
              "#fb9f3a"
             ],
             [
              0.8888888888888888,
              "#fdca26"
             ],
             [
              1,
              "#f0f921"
             ]
            ],
            "type": "histogram2d"
           }
          ],
          "histogram2dcontour": [
           {
            "colorbar": {
             "outlinewidth": 0,
             "ticks": ""
            },
            "colorscale": [
             [
              0,
              "#0d0887"
             ],
             [
              0.1111111111111111,
              "#46039f"
             ],
             [
              0.2222222222222222,
              "#7201a8"
             ],
             [
              0.3333333333333333,
              "#9c179e"
             ],
             [
              0.4444444444444444,
              "#bd3786"
             ],
             [
              0.5555555555555556,
              "#d8576b"
             ],
             [
              0.6666666666666666,
              "#ed7953"
             ],
             [
              0.7777777777777778,
              "#fb9f3a"
             ],
             [
              0.8888888888888888,
              "#fdca26"
             ],
             [
              1,
              "#f0f921"
             ]
            ],
            "type": "histogram2dcontour"
           }
          ],
          "mesh3d": [
           {
            "colorbar": {
             "outlinewidth": 0,
             "ticks": ""
            },
            "type": "mesh3d"
           }
          ],
          "parcoords": [
           {
            "line": {
             "colorbar": {
              "outlinewidth": 0,
              "ticks": ""
             }
            },
            "type": "parcoords"
           }
          ],
          "pie": [
           {
            "automargin": true,
            "type": "pie"
           }
          ],
          "scatter": [
           {
            "fillpattern": {
             "fillmode": "overlay",
             "size": 10,
             "solidity": 0.2
            },
            "type": "scatter"
           }
          ],
          "scatter3d": [
           {
            "line": {
             "colorbar": {
              "outlinewidth": 0,
              "ticks": ""
             }
            },
            "marker": {
             "colorbar": {
              "outlinewidth": 0,
              "ticks": ""
             }
            },
            "type": "scatter3d"
           }
          ],
          "scattercarpet": [
           {
            "marker": {
             "colorbar": {
              "outlinewidth": 0,
              "ticks": ""
             }
            },
            "type": "scattercarpet"
           }
          ],
          "scattergeo": [
           {
            "marker": {
             "colorbar": {
              "outlinewidth": 0,
              "ticks": ""
             }
            },
            "type": "scattergeo"
           }
          ],
          "scattergl": [
           {
            "marker": {
             "colorbar": {
              "outlinewidth": 0,
              "ticks": ""
             }
            },
            "type": "scattergl"
           }
          ],
          "scattermapbox": [
           {
            "marker": {
             "colorbar": {
              "outlinewidth": 0,
              "ticks": ""
             }
            },
            "type": "scattermapbox"
           }
          ],
          "scatterpolar": [
           {
            "marker": {
             "colorbar": {
              "outlinewidth": 0,
              "ticks": ""
             }
            },
            "type": "scatterpolar"
           }
          ],
          "scatterpolargl": [
           {
            "marker": {
             "colorbar": {
              "outlinewidth": 0,
              "ticks": ""
             }
            },
            "type": "scatterpolargl"
           }
          ],
          "scatterternary": [
           {
            "marker": {
             "colorbar": {
              "outlinewidth": 0,
              "ticks": ""
             }
            },
            "type": "scatterternary"
           }
          ],
          "surface": [
           {
            "colorbar": {
             "outlinewidth": 0,
             "ticks": ""
            },
            "colorscale": [
             [
              0,
              "#0d0887"
             ],
             [
              0.1111111111111111,
              "#46039f"
             ],
             [
              0.2222222222222222,
              "#7201a8"
             ],
             [
              0.3333333333333333,
              "#9c179e"
             ],
             [
              0.4444444444444444,
              "#bd3786"
             ],
             [
              0.5555555555555556,
              "#d8576b"
             ],
             [
              0.6666666666666666,
              "#ed7953"
             ],
             [
              0.7777777777777778,
              "#fb9f3a"
             ],
             [
              0.8888888888888888,
              "#fdca26"
             ],
             [
              1,
              "#f0f921"
             ]
            ],
            "type": "surface"
           }
          ],
          "table": [
           {
            "cells": {
             "fill": {
              "color": "#EBF0F8"
             },
             "line": {
              "color": "white"
             }
            },
            "header": {
             "fill": {
              "color": "#C8D4E3"
             },
             "line": {
              "color": "white"
             }
            },
            "type": "table"
           }
          ]
         },
         "layout": {
          "annotationdefaults": {
           "arrowcolor": "#2a3f5f",
           "arrowhead": 0,
           "arrowwidth": 1
          },
          "autotypenumbers": "strict",
          "coloraxis": {
           "colorbar": {
            "outlinewidth": 0,
            "ticks": ""
           }
          },
          "colorscale": {
           "diverging": [
            [
             0,
             "#8e0152"
            ],
            [
             0.1,
             "#c51b7d"
            ],
            [
             0.2,
             "#de77ae"
            ],
            [
             0.3,
             "#f1b6da"
            ],
            [
             0.4,
             "#fde0ef"
            ],
            [
             0.5,
             "#f7f7f7"
            ],
            [
             0.6,
             "#e6f5d0"
            ],
            [
             0.7,
             "#b8e186"
            ],
            [
             0.8,
             "#7fbc41"
            ],
            [
             0.9,
             "#4d9221"
            ],
            [
             1,
             "#276419"
            ]
           ],
           "sequential": [
            [
             0,
             "#0d0887"
            ],
            [
             0.1111111111111111,
             "#46039f"
            ],
            [
             0.2222222222222222,
             "#7201a8"
            ],
            [
             0.3333333333333333,
             "#9c179e"
            ],
            [
             0.4444444444444444,
             "#bd3786"
            ],
            [
             0.5555555555555556,
             "#d8576b"
            ],
            [
             0.6666666666666666,
             "#ed7953"
            ],
            [
             0.7777777777777778,
             "#fb9f3a"
            ],
            [
             0.8888888888888888,
             "#fdca26"
            ],
            [
             1,
             "#f0f921"
            ]
           ],
           "sequentialminus": [
            [
             0,
             "#0d0887"
            ],
            [
             0.1111111111111111,
             "#46039f"
            ],
            [
             0.2222222222222222,
             "#7201a8"
            ],
            [
             0.3333333333333333,
             "#9c179e"
            ],
            [
             0.4444444444444444,
             "#bd3786"
            ],
            [
             0.5555555555555556,
             "#d8576b"
            ],
            [
             0.6666666666666666,
             "#ed7953"
            ],
            [
             0.7777777777777778,
             "#fb9f3a"
            ],
            [
             0.8888888888888888,
             "#fdca26"
            ],
            [
             1,
             "#f0f921"
            ]
           ]
          },
          "colorway": [
           "#636efa",
           "#EF553B",
           "#00cc96",
           "#ab63fa",
           "#FFA15A",
           "#19d3f3",
           "#FF6692",
           "#B6E880",
           "#FF97FF",
           "#FECB52"
          ],
          "font": {
           "color": "#2a3f5f"
          },
          "geo": {
           "bgcolor": "white",
           "lakecolor": "white",
           "landcolor": "#E5ECF6",
           "showlakes": true,
           "showland": true,
           "subunitcolor": "white"
          },
          "hoverlabel": {
           "align": "left"
          },
          "hovermode": "closest",
          "mapbox": {
           "style": "light"
          },
          "paper_bgcolor": "white",
          "plot_bgcolor": "#E5ECF6",
          "polar": {
           "angularaxis": {
            "gridcolor": "white",
            "linecolor": "white",
            "ticks": ""
           },
           "bgcolor": "#E5ECF6",
           "radialaxis": {
            "gridcolor": "white",
            "linecolor": "white",
            "ticks": ""
           }
          },
          "scene": {
           "xaxis": {
            "backgroundcolor": "#E5ECF6",
            "gridcolor": "white",
            "gridwidth": 2,
            "linecolor": "white",
            "showbackground": true,
            "ticks": "",
            "zerolinecolor": "white"
           },
           "yaxis": {
            "backgroundcolor": "#E5ECF6",
            "gridcolor": "white",
            "gridwidth": 2,
            "linecolor": "white",
            "showbackground": true,
            "ticks": "",
            "zerolinecolor": "white"
           },
           "zaxis": {
            "backgroundcolor": "#E5ECF6",
            "gridcolor": "white",
            "gridwidth": 2,
            "linecolor": "white",
            "showbackground": true,
            "ticks": "",
            "zerolinecolor": "white"
           }
          },
          "shapedefaults": {
           "line": {
            "color": "#2a3f5f"
           }
          },
          "ternary": {
           "aaxis": {
            "gridcolor": "white",
            "linecolor": "white",
            "ticks": ""
           },
           "baxis": {
            "gridcolor": "white",
            "linecolor": "white",
            "ticks": ""
           },
           "bgcolor": "#E5ECF6",
           "caxis": {
            "gridcolor": "white",
            "linecolor": "white",
            "ticks": ""
           }
          },
          "title": {
           "x": 0.05
          },
          "xaxis": {
           "automargin": true,
           "gridcolor": "white",
           "linecolor": "white",
           "ticks": "",
           "title": {
            "standoff": 15
           },
           "zerolinecolor": "white",
           "zerolinewidth": 2
          },
          "yaxis": {
           "automargin": true,
           "gridcolor": "white",
           "linecolor": "white",
           "ticks": "",
           "title": {
            "standoff": 15
           },
           "zerolinecolor": "white",
           "zerolinewidth": 2
          }
         }
        },
        "title": {
         "font": {
          "color": "red",
          "family": "Comic Sans MS"
         },
         "x": 0.5,
         "xanchor": "center",
         "y": 0.99,
         "yanchor": "top"
        },
        "updatemenus": [
         {
          "buttons": [
           {
            "args": [
             {
              "visible": [
               true,
               false,
               false,
               false,
               false,
               false,
               false,
               false,
               false,
               false
              ]
             },
             {
              "title": "Average Price of an Airbnb in Brooklyn"
             }
            ],
            "label": "Brooklyn",
            "method": "update"
           },
           {
            "args": [
             {
              "visible": [
               false,
               true,
               false,
               false,
               false,
               false,
               false,
               false,
               false,
               false
              ]
             },
             {
              "title": "Average Price of an Airbnb in the Bronx"
             }
            ],
            "label": "Queens",
            "method": "update"
           },
           {
            "args": [
             {
              "visible": [
               false,
               false,
               true,
               false,
               false,
               false,
               false,
               false,
               false,
               false
              ]
             },
             {
              "title": "Average Price of an Airbnb in Queens"
             }
            ],
            "label": "Bronx",
            "method": "update"
           },
           {
            "args": [
             {
              "visible": [
               false,
               false,
               false,
               true,
               false,
               false,
               false,
               false,
               false,
               false
              ]
             },
             {
              "title": "Average Price of an Airbnb in Staten Island"
             }
            ],
            "label": "Staten Island",
            "method": "update"
           },
           {
            "args": [
             {
              "visible": [
               false,
               false,
               false,
               false,
               true,
               false,
               false,
               false,
               false,
               false
              ]
             },
             {
              "title": "Average Price of an Airbnb in Manhatten"
             }
            ],
            "label": "Manhatten",
            "method": "update"
           }
          ],
          "direction": "left",
          "type": "buttons",
          "x": 1,
          "y": 1.1
         },
         {
          "buttons": [
           {
            "args": [
             {
              "visible": [
               false,
               false,
               false,
               false,
               false,
               true,
               false,
               false,
               false,
               false
              ]
             },
             {
              "title": "Average Rating of an Airbnb in Brooklyn"
             }
            ],
            "label": "Brooklyn",
            "method": "update"
           },
           {
            "args": [
             {
              "visible": [
               false,
               false,
               false,
               false,
               false,
               false,
               true,
               false,
               false,
               false
              ]
             },
             {
              "title": "Average Rating of an Airbnb in the Bronx"
             }
            ],
            "label": "Queens",
            "method": "update"
           },
           {
            "args": [
             {
              "visible": [
               false,
               false,
               false,
               false,
               false,
               false,
               false,
               true,
               false,
               false
              ]
             },
             {
              "title": "Average Rating of an Airbnb in Queens"
             }
            ],
            "label": "Bronx",
            "method": "update"
           },
           {
            "args": [
             {
              "visible": [
               false,
               false,
               false,
               false,
               false,
               false,
               false,
               false,
               true,
               false
              ]
             },
             {
              "title": "Average Rating of an Airbnb in Staten Island"
             }
            ],
            "label": "Staten Island",
            "method": "update"
           },
           {
            "args": [
             {
              "visible": [
               false,
               false,
               false,
               false,
               false,
               false,
               false,
               false,
               false,
               true
              ]
             },
             {
              "title": "Average Rating of an Airbnb in Manhatten"
             }
            ],
            "label": "Manhatten",
            "method": "update"
           }
          ],
          "direction": "left",
          "type": "buttons",
          "x": 0.4,
          "y": 1.1
         }
        ]
       }
      }
     },
     "metadata": {},
     "output_type": "display_data"
    }
   ],
   "source": [
    "\n",
    "fig = go.Figure()\n",
    "fig.add_trace(\n",
    "    go.Scatter(x = list(sorted_dict_Brook.keys()),\n",
    "               y = list(sorted_dict_Brook.values()),\n",
    "               name=\"Brooklyn\",\n",
    "               mode='markers',\n",
    "               marker=dict(\n",
    "            color='LightSkyBlue',\n",
    "            )\n",
    "        ))\n",
    "fig.add_trace(\n",
    "    go.Scatter(x = list(sorted_dict_Queens.keys()),\n",
    "               y = list(sorted_dict_Queens.values()),\n",
    "               name=\"Bronx\",\n",
    "               mode='markers',\n",
    "               marker=dict(\n",
    "            color='Purple',\n",
    "            ),\n",
    "                         visible=False\n",
    "        ))\n",
    "fig.add_trace(\n",
    "    go.Scatter(x = list(sorted_dict_Bronx.keys()),\n",
    "               y = list(sorted_dict_Bronx.values()),\n",
    "               name=\"Queens\",\n",
    "               mode='markers',\n",
    "               marker=dict(\n",
    "            color='orange',\n",
    "            ),\n",
    "                         visible=False\n",
    "        ))\n",
    "fig.add_trace(\n",
    "    go.Scatter(x = list(sorted_dict_Stat.keys()),\n",
    "               y = list(sorted_dict_Stat.values()),\n",
    "               name=\"Staten Island\",\n",
    "               mode='markers',\n",
    "               marker=dict(\n",
    "            color='Green',\n",
    "            ),\n",
    "                         visible=False\n",
    "        ))\n",
    "fig.add_trace(\n",
    "    go.Scatter(x = list(sorted_dict_Man.keys()),\n",
    "               y = list(sorted_dict_Man.values()),\n",
    "               name=\"Manhatten\",\n",
    "               mode='markers',\n",
    "               marker=dict(\n",
    "            color='Red',\n",
    "            ),\n",
    "                         visible=False\n",
    "        ))\n",
    "fig.add_trace(\n",
    "    go.Scatter(x = list(sorted_rating_Brook.keys()),\n",
    "               y = list(sorted_rating_Brook.values()),\n",
    "               name=\"Brooklyn\",\n",
    "               mode='markers',\n",
    "               marker=dict(\n",
    "            color='LightSkyBlue',\n",
    "            ),\n",
    "                         visible=False\n",
    "        ))\n",
    "fig.add_trace(\n",
    "    go.Scatter(x = list(sorted_rating_Queens.keys()),\n",
    "               y = list(sorted_rating_Queens.values()),\n",
    "               name=\"Queens\",\n",
    "               mode='markers',\n",
    "               marker=dict(\n",
    "            color='Purple',\n",
    "            ),\n",
    "                         visible=False\n",
    "        ))\n",
    "fig.add_trace(\n",
    "    go.Scatter(x = list(sorted_rating_Bronx.keys()),\n",
    "               y = list(sorted_rating_Bronx.values()),\n",
    "               name=\"Bronx\",\n",
    "               mode='markers',\n",
    "               marker=dict(\n",
    "            color='orange',\n",
    "            ),\n",
    "                         visible=False\n",
    "        ))\n",
    "fig.add_trace(\n",
    "    go.Scatter(x = list(sorted_rating_Stat.keys()),\n",
    "               y = list(sorted_rating_Stat.values()),\n",
    "               name=\"Staten Island\",\n",
    "               mode='markers',\n",
    "               marker=dict(\n",
    "            color='Green',\n",
    "            ),\n",
    "                         visible=False\n",
    "        ))\n",
    "fig.add_trace(\n",
    "    go.Scatter(x = list(sorted_rating_Man.keys()),\n",
    "               y = list(sorted_rating_Man.values()),\n",
    "               name=\"Manhatten\",\n",
    "               mode='markers',\n",
    "               marker=dict(\n",
    "            color='Red',\n",
    "            ),\n",
    "        visible=False\n",
    "        ))\n",
    "fig.update_layout(\n",
    "    title={\n",
    "        'y':0.99,\n",
    "        'x':0.5,\n",
    "        'xanchor': 'center',\n",
    "        'yanchor': 'top'},\n",
    "   font_family='Comic Sans MS',\n",
    "   font_color=\"black\",\n",
    "   title_font_family=\"Comic Sans MS\",\n",
    "   title_font_color=\"red\",\n",
    "   legend_title_font_color=\"green\",\n",
    "   updatemenus=[\n",
    "        dict(\n",
    "            type=\"buttons\",\n",
    "            direction=\"left\",\n",
    "            x = 1,\n",
    "            y = 1.1,\n",
    "            buttons=list([\n",
    "                dict(\n",
    "                  label = \"Brooklyn\", method = \"update\",\n",
    "                  args = [{\"visible\": [True, False, False, False, False, False, False, False, False, False]},{\"title\": 'Average Price of an Airbnb in Brooklyn'} ]\n",
    "               ),\n",
    "               dict(\n",
    "                  label = \"Queens\", method = \"update\",\n",
    "                  args = [{\"visible\": [False, True, False, False, False, False, False, False, False, False]},{\"title\": 'Average Price of an Airbnb in the Bronx'} ]\n",
    "               ),\n",
    "               dict(\n",
    "                  label = \"Bronx\", method = \"update\",\n",
    "                  args = [{\"visible\": [False, False, True, False, False, False, False, False, False, False]},{\"title\": 'Average Price of an Airbnb in Queens'} ]\n",
    "               ),\n",
    "                dict(\n",
    "                  label = \"Staten Island\", method = \"update\",\n",
    "                  args = [{\"visible\": [False, False, False, True, False, False, False, False, False, False]},{\"title\": 'Average Price of an Airbnb in Staten Island'} ]\n",
    "               ),\n",
    "                dict(\n",
    "                  label = \"Manhatten\", method = \"update\",\n",
    "                  args = [{\"visible\": [False, False, False, False, True, False, False, False, False, False]},{\"title\": 'Average Price of an Airbnb in Manhatten'} ]\n",
    "               )\n",
    "            ]),\n",
    "        ), \n",
    "        dict(\n",
    "            type=\"buttons\",\n",
    "            direction=\"left\",\n",
    "            x=0.4,\n",
    "            y = 1.1,\n",
    "            buttons=list([\n",
    "                dict(\n",
    "                  label = \"Brooklyn\", method = \"update\",\n",
    "                  args = [{\"visible\": [False, False, False, False, False, True, False, False, False, False]},{\"title\": 'Average Rating of an Airbnb in Brooklyn'} ]\n",
    "               ),\n",
    "               dict(\n",
    "                  label = \"Queens\", method = \"update\",\n",
    "                  args = [{\"visible\": [False, False, False, False, False, False, True, False, False, False]},{\"title\": 'Average Rating of an Airbnb in the Bronx'} ]\n",
    "               ),\n",
    "               dict(\n",
    "                  label = \"Bronx\", method = \"update\", \n",
    "                  args = [{\"visible\": [False, False, False, False, False, False, False, True, False, False]},{\"title\": 'Average Rating of an Airbnb in Queens'} ]\n",
    "               ),\n",
    "                dict(\n",
    "                  label = \"Staten Island\", method = \"update\",\n",
    "                  args = [{\"visible\": [False, False, False, False, False, False, False, False, True, False]},{\"title\": 'Average Rating of an Airbnb in Staten Island'} ]\n",
    "               ),\n",
    "                dict(\n",
    "                  label = \"Manhatten\", method = \"update\",\n",
    "                  args = [{\"visible\": [False, False, False, False, False, False, False, False, False, True]},{\"title\": 'Average Rating of an Airbnb in Manhatten'}]\n",
    "               ),\n",
    "            ]),\n",
    "        )\n",
    "    ])\n",
    "fig.update_layout(\n",
    "    xaxis = dict(\n",
    "        #tickmode = 'array',\n",
    "    ),\n",
    "    annotations=[\n",
    "        dict(text=\"Rating\", x=0.05, xref=\"paper\", y=1.1, yref=\"paper\",\n",
    "                             align=\"left\", showarrow=False),\n",
    "        dict(text=\"Price\", x=0.67, xref=\"paper\", y=1.1,\n",
    "                             yref=\"paper\", showarrow=False),\n",
    "    ])\n",
    "fig.show(config = {'displayModeBar': False})\n",
    "fig.write_html(\"Each Neighbourhood.html\")"
   ]
  },
  {
   "cell_type": "code",
   "execution_count": 567,
   "metadata": {},
   "outputs": [
    {
     "data": {
      "application/vnd.plotly.v1+json": {
       "config": {
        "displayModeBar": false,
        "plotlyServerURL": "https://plot.ly"
       },
       "data": [
        {
         "marker": {
          "color": "LightSkyBlue"
         },
         "mode": "markers",
         "name": "Brooklyn",
         "type": "scatter",
         "x": [
          "Navy Yard",
          "DUMBO",
          "Fort Hamilton",
          "Sea Gate",
          "Windsor Terrace",
          "Bergen Beach",
          "Bensonhurst",
          "Downtown Brooklyn",
          "Midwood",
          "Brooklyn Heights",
          "East New York",
          "Park Slope",
          "Kensington",
          "Borough Park",
          "Greenpoint",
          "Fort Greene",
          "Bay Ridge",
          "Dyker Heights",
          "Crown Heights",
          "Cypress Hills",
          "Bedford-Stuyvesant",
          "Sheepshead Bay",
          "Williamsburg",
          "Boerum Hill",
          "Canarsie",
          "Sunset Park",
          "Red Hook",
          "Clinton Hill",
          "Bushwick",
          "Vinegar Hill",
          "Cobble Hill",
          "Gowanus",
          "Flatlands",
          "Carroll Gardens",
          "East Flatbush",
          "Prospect-Lefferts Gardens",
          "South Slope",
          "Prospect Heights",
          "Flatbush",
          "Brighton Beach",
          "Brownsville",
          "Manhattan Beach",
          "Coney Island",
          "Gravesend",
          "Columbia St",
          "Bath Beach",
          "Mill Basin"
         ],
         "y": [
          481.93548387096774,
          568.2428571428571,
          569.05,
          572.7,
          579.7848484848485,
          583.3,
          591.9108280254777,
          596.4571428571429,
          596.7905982905983,
          601.3506493506494,
          605.8892561983471,
          607.7882703777336,
          610.7642276422764,
          610.9213483146067,
          612.4127281235377,
          614.0337909186906,
          616.1809210526316,
          617.44,
          617.5316728167281,
          620.2754491017964,
          622.9834616841308,
          624.9485094850949,
          625.5364878803507,
          627.0251396648044,
          628.0947630922693,
          629.6535796766743,
          631.3539325842696,
          633.2820738137083,
          633.3385018123238,
          635.1805555555555,
          635.7839195979899,
          643.2073170731708,
          643.2222222222222,
          643.6464435146444,
          644.4884297520662,
          644.6563573883161,
          649.2799295774648,
          650.7467811158798,
          650.9536321483771,
          658.3988095238095,
          671.5194805194806,
          694.7727272727273,
          695.26,
          698.0704225352113,
          716.6629213483146,
          725.2708333333334,
          775.1428571428571
         ]
        },
        {
         "marker": {
          "color": "Purple"
         },
         "mode": "markers",
         "name": "Queens",
         "type": "scatter",
         "x": [
          "Douglaston",
          "Howard Beach",
          "Holliswood",
          "Hollis",
          "Richmond Hill",
          "Bayside",
          "Fresh Meadows",
          "Laurelton",
          "Middle Village",
          "Bayswater",
          "Whitestone",
          "Forest Hills",
          "Maspeth",
          "Belle Harbor",
          "South Ozone Park",
          "Rosedale",
          "Corona",
          "St. Albans",
          "Sunnyside",
          "Springfield Gardens",
          "Bellerose",
          "Ditmars Steinway",
          "Jamaica",
          "Jackson Heights",
          "Edgemere",
          "Woodhaven",
          "Far Rockaway",
          "Elmhurst",
          "Jamaica Estates",
          "Flushing",
          "Woodside",
          "Rego Park",
          "Kew Gardens",
          "Astoria",
          "Ridgewood",
          "Rockaway Beach",
          "Long Island City",
          "Arverne",
          "Glendale",
          "Ozone Park",
          "Queens Village",
          "College Point",
          "East Elmhurst",
          "Kew Gardens Hills",
          "Cambria Heights",
          "Briarwood",
          "Jamaica Hills"
         ],
         "y": [
          488.95454545454544,
          546.36,
          546.9,
          554.9090909090909,
          557.2669683257918,
          562.5322580645161,
          564.36,
          581.0746268656717,
          581.7462686567164,
          582.625,
          583,
          593.2565789473684,
          597.0426356589147,
          600.741935483871,
          602.6535433070866,
          606.140350877193,
          610.025,
          612.1388888888889,
          613.773417721519,
          617.2298387096774,
          622.2307692307693,
          623.3751824817518,
          624.9223300970874,
          627.5582959641256,
          630.5,
          630.5183246073299,
          631.4871794871794,
          632.2843691148776,
          632.9375,
          633.25,
          634.5883361921098,
          636.2553191489362,
          638.0361445783133,
          639.0352752538749,
          639.3962472406181,
          640.7700534759358,
          647.3582608695652,
          652.1255605381166,
          652.884892086331,
          654.1866666666666,
          661.9115646258504,
          669.1458333333334,
          669.7107438016529,
          690.3939393939394,
          690.7215189873418,
          703.5798319327731,
          812.9047619047619
         ]
        },
        {
         "marker": {
          "color": "orange"
         },
         "mode": "markers",
         "name": "Bronx",
         "type": "scatter",
         "x": [
          "Castle Hill",
          "Baychester",
          "Unionport",
          "Tremont",
          "Concourse Village",
          "Westchester Square",
          "Morrisania",
          "Kingsbridge",
          "Melrose",
          "Bronxdale",
          "Port Morris",
          "Woodlawn",
          "Clason Point",
          "Van Nest",
          "Mott Haven",
          "Edenwald",
          "Hunts Point",
          "Pelham Gardens",
          "Soundview",
          "University Heights",
          "Mount Hope",
          "Williamsbridge",
          "Wakefield",
          "Norwood",
          "Parkchester",
          "Allerton",
          "Claremont Village",
          "Mount Eden",
          "Fordham",
          "City Island",
          "Schuylerville",
          "Longwood",
          "Belmont",
          "Concourse",
          "Highbridge",
          "Olinville",
          "Eastchester",
          "Throgs Neck",
          "Fieldston",
          "Morris Park",
          "North Riverdale",
          "Pelham Bay",
          "Morris Heights",
          "East Morrisania",
          "Riverdale"
         ],
         "y": [
          485.1818181818182,
          524,
          541.9047619047619,
          543.5333333333333,
          547.0131578947369,
          560.2173913043479,
          571.9090909090909,
          573.3963414634146,
          574,
          574.1702127659574,
          575.2626262626262,
          587.1379310344828,
          590.5918367346939,
          590.7692307692307,
          602.6241610738255,
          607.5142857142857,
          610.4905660377359,
          611.4864864864865,
          614.3939393939394,
          618.4,
          626.2037037037037,
          628.7083333333334,
          631.9496855345911,
          632.6052631578947,
          633.2626262626262,
          636.34375,
          636.3728813559322,
          644.5555555555555,
          644.9013157894736,
          647.2926829268292,
          659.3617021276596,
          671.0074074074074,
          672.4888888888889,
          674.430894308943,
          676.0298507462686,
          677.5217391304348,
          680.2758620689655,
          680.9137931034483,
          696.24,
          706.6222222222223,
          736.25,
          740.0454545454545,
          742.8913043478261,
          764.6666666666666,
          768.7368421052631
         ]
        },
        {
         "marker": {
          "color": "Green"
         },
         "mode": "markers",
         "name": "Staten Island",
         "type": "scatter",
         "x": [
          "Castleton Corners",
          "Emerson Hill",
          "Randall Manor",
          "Oakwood",
          "South Beach",
          "Rosebank",
          "New Springville",
          "Port Richmond",
          "Grant City",
          "Bull's Head",
          "New Dorp Beach",
          "Concord",
          "Tompkinsville",
          "Arrochar",
          "Mariners Harbor",
          "West Brighton",
          "St. George",
          "Tottenville",
          "Dongan Hills",
          "Grymes Hill",
          "Great Kills",
          "New Brighton",
          "Stapleton",
          "Clifton",
          "Shore Acres",
          "Midland Beach"
         ],
         "y": [
          417.2307692307692,
          443.8,
          472.4,
          480.64285714285717,
          512.6875,
          523.4285714285714,
          538.8333333333334,
          555.68,
          558.2272727272727,
          574.25,
          598.75,
          605.360655737705,
          616.0366972477065,
          625.7647058823529,
          633.52,
          638.0169491525423,
          651.928,
          657.6923076923077,
          675.1538461538462,
          675.8888888888889,
          682.875,
          696.9333333333333,
          699.234375,
          702,
          792.2608695652174,
          796.1764705882352
         ]
        },
        {
         "marker": {
          "color": "Red"
         },
         "mode": "markers",
         "name": "Manhatten",
         "type": "scatter",
         "x": [
          "Marble Hill",
          "Battery Park City",
          "Washington Heights",
          "Midtown",
          "Kips Bay",
          "Little Italy",
          "Flatiron District",
          "Gramercy",
          "Upper West Side",
          "Murray Hill",
          "East Village",
          "Upper East Side",
          "Hell's Kitchen",
          "Two Bridges",
          "Financial District",
          "Morningside Heights",
          "Civic Center",
          "Lower East Side",
          "Harlem",
          "East Harlem",
          "Roosevelt Island",
          "Chinatown",
          "Nolita",
          "Chelsea",
          "Theater District",
          "SoHo",
          "Tribeca",
          "West Village",
          "Greenwich Village",
          "Inwood",
          "NoHo",
          "Stuyvesant Town"
         ],
         "y": [
          497.14285714285717,
          591.0593220338983,
          602.1822272215973,
          609.5470414201184,
          610.3020719738277,
          610.7111913357401,
          613.1012658227849,
          614.959479015919,
          616.5268621853102,
          617.2562761506276,
          617.4988485895221,
          618.1973827699019,
          621.065387528402,
          621.1742424242424,
          623.5799731182796,
          624.9574132492114,
          626.1214953271028,
          626.5617919670443,
          626.8024193548387,
          626.9288774635818,
          629.7295597484276,
          629.9263959390863,
          631.3856332703214,
          633.5008771929824,
          635.0070796460177,
          636.2863436123348,
          636.863768115942,
          638.2128378378378,
          639.8067567567567,
          661.7087912087912,
          664.3093525179856,
          680.9156626506024
         ]
        },
        {
         "marker": {
          "color": "LightSkyBlue"
         },
         "mode": "markers",
         "name": "Brooklyn",
         "type": "scatter",
         "visible": false,
         "x": [
          "Manhattan Beach",
          "Bergen Beach",
          "DUMBO",
          "Sea Gate",
          "Coney Island",
          "Windsor Terrace",
          "Red Hook",
          "Prospect Heights",
          "Bay Ridge",
          "Gowanus",
          "Bath Beach",
          "Brooklyn Heights",
          "Flatlands",
          "Vinegar Hill",
          "Cobble Hill",
          "South Slope",
          "Fort Greene",
          "Sunset Park",
          "Dyker Heights",
          "Greenpoint",
          "Clinton Hill",
          "Flatbush",
          "Sheepshead Bay",
          "Park Slope",
          "Williamsburg",
          "Carroll Gardens",
          "Bushwick",
          "Bensonhurst",
          "Bedford-Stuyvesant",
          "Crown Heights",
          "Boerum Hill",
          "East Flatbush",
          "Prospect-Lefferts Gardens",
          "Gravesend",
          "Kensington",
          "Cypress Hills",
          "East New York",
          "Navy Yard",
          "Canarsie",
          "Columbia St",
          "Downtown Brooklyn",
          "Brighton Beach",
          "Midwood",
          "Fort Hamilton",
          "Borough Park",
          "Brownsville",
          "Mill Basin"
         ],
         "y": [
          2.409090909090909,
          2.8333333333333335,
          2.8714285714285714,
          3,
          3.08,
          3.1,
          3.1123595505617976,
          3.125,
          3.1282894736842106,
          3.133874239350913,
          3.1458333333333335,
          3.150326797385621,
          3.1705069124423964,
          3.1714285714285713,
          3.1758793969849246,
          3.187279151943463,
          3.1983032873807,
          3.1983758700696057,
          3.2,
          3.2144194756554305,
          3.2177348551360843,
          3.235658914728682,
          3.2418478260869565,
          3.243781094527363,
          3.2479680041284995,
          3.2698744769874475,
          3.276056338028169,
          3.2774193548387096,
          3.281277616462568,
          3.2839582052858023,
          3.2905027932960893,
          3.2958677685950413,
          3.2988802756244615,
          3.3098591549295775,
          3.323369565217391,
          3.3323353293413174,
          3.3526490066225167,
          3.3548387096774195,
          3.3930348258706466,
          3.393258426966292,
          3.4,
          3.4047619047619047,
          3.465811965811966,
          3.475,
          3.4831460674157304,
          3.4836601307189543,
          3.7857142857142856
         ]
        },
        {
         "marker": {
          "color": "Purple"
         },
         "mode": "markers",
         "name": "Queens",
         "type": "scatter",
         "visible": false,
         "x": [
          "Jamaica Hills",
          "Edgemere",
          "Whitestone",
          "Douglaston",
          "Glendale",
          "Fresh Meadows",
          "Belle Harbor",
          "Arverne",
          "Astoria",
          "Bayside",
          "Queens Village",
          "Middle Village",
          "Corona",
          "Long Island City",
          "Laurelton",
          "Howard Beach",
          "Flushing",
          "Rego Park",
          "Jackson Heights",
          "Woodhaven",
          "Kew Gardens Hills",
          "Maspeth",
          "Cambria Heights",
          "Richmond Hill",
          "East Elmhurst",
          "Rockaway Beach",
          "Kew Gardens",
          "Elmhurst",
          "Springfield Gardens",
          "Forest Hills",
          "Ditmars Steinway",
          "Bellerose",
          "South Ozone Park",
          "Sunnyside",
          "Ridgewood",
          "Holliswood",
          "Jamaica",
          "Woodside",
          "College Point",
          "St. Albans",
          "Bayswater",
          "Jamaica Estates",
          "Rosedale",
          "Briarwood",
          "Ozone Park",
          "Hollis",
          "Far Rockaway"
         ],
         "y": [
          2.6666666666666665,
          2.96875,
          3,
          3,
          3.0071942446043165,
          3.07,
          3.161290322580645,
          3.2286995515695067,
          3.2297441364605546,
          3.2419354838709675,
          3.2448979591836733,
          3.2686567164179103,
          3.26875,
          3.2756521739130435,
          3.2794117647058822,
          3.28,
          3.2873096446700507,
          3.2966101694915255,
          3.3028953229398663,
          3.328125,
          3.3333333333333335,
          3.3410852713178296,
          3.3417721518987342,
          3.3484162895927603,
          3.353909465020576,
          3.358288770053476,
          3.36144578313253,
          3.365348399246704,
          3.379032258064516,
          3.380327868852459,
          3.383381924198251,
          3.3846153846153846,
          3.3858267716535435,
          3.3919089759797725,
          3.398678414096916,
          3.4,
          3.4006462035541194,
          3.4081632653061225,
          3.4375,
          3.439814814814815,
          3.475,
          3.48,
          3.52046783625731,
          3.5289256198347108,
          3.533333333333333,
          3.590909090909091,
          3.6025641025641026
         ]
        },
        {
         "marker": {
          "color": "orange"
         },
         "mode": "markers",
         "name": "Bronx",
         "type": "scatter",
         "visible": false,
         "x": [
          "Highbridge",
          "Castle Hill",
          "Olinville",
          "Concourse",
          "Norwood",
          "Eastchester",
          "East Morrisania",
          "Morris Park",
          "Morris Heights",
          "Hunts Point",
          "Bronxdale",
          "Riverdale",
          "Van Nest",
          "Allerton",
          "Belmont",
          "Mount Hope",
          "Fordham",
          "Woodlawn",
          "Port Morris",
          "Parkchester",
          "Pelham Gardens",
          "Wakefield",
          "Longwood",
          "Tremont",
          "North Riverdale",
          "Fieldston",
          "Kingsbridge",
          "Claremont Village",
          "Mott Haven",
          "Concourse Village",
          "Pelham Bay",
          "Morrisania",
          "Soundview",
          "Throgs Neck",
          "University Heights",
          "Clason Point",
          "Schuylerville",
          "Baychester",
          "Williamsbridge",
          "Edenwald",
          "Melrose",
          "Unionport",
          "Westchester Square",
          "City Island",
          "Mount Eden"
         ],
         "y": [
          3.029850746268657,
          3.0454545454545454,
          3.0869565217391304,
          3.089430894308943,
          3.1052631578947367,
          3.1379310344827585,
          3.142857142857143,
          3.1777777777777776,
          3.1956521739130435,
          3.207547169811321,
          3.2083333333333335,
          3.210526315789474,
          3.230769230769231,
          3.2783505154639174,
          3.2888888888888888,
          3.2962962962962963,
          3.3006535947712417,
          3.310344827586207,
          3.313131313131313,
          3.313131313131313,
          3.3378378378378377,
          3.339622641509434,
          3.348148148148148,
          3.3548387096774195,
          3.357142857142857,
          3.36,
          3.3636363636363638,
          3.3728813559322033,
          3.3758389261744965,
          3.3815789473684212,
          3.3863636363636362,
          3.3863636363636362,
          3.393939393939394,
          3.413793103448276,
          3.418181818181818,
          3.5,
          3.5106382978723403,
          3.5172413793103448,
          3.5208333333333335,
          3.5428571428571427,
          3.5652173913043477,
          3.6363636363636362,
          3.652173913043478,
          3.707317073170732,
          3.7777777777777777
         ]
        },
        {
         "marker": {
          "color": "Green"
         },
         "mode": "markers",
         "name": "Staten Island",
         "type": "scatter",
         "visible": false,
         "x": [
          "Tottenville",
          "West Brighton",
          "Great Kills",
          "Concord",
          "Dongan Hills",
          "Emerson Hill",
          "New Brighton",
          "Grant City",
          "Mariners Harbor",
          "Midland Beach",
          "New Springville",
          "Tompkinsville",
          "Castleton Corners",
          "Port Richmond",
          "St. George",
          "Arrochar",
          "New Dorp Beach",
          "Stapleton",
          "South Beach",
          "Randall Manor",
          "Grymes Hill",
          "Shore Acres",
          "Clifton",
          "Oakwood",
          "Bull's Head",
          "Rosebank"
         ],
         "y": [
          2.3846153846153846,
          2.9661016949152543,
          3,
          3.1311475409836067,
          3.1538461538461537,
          3.2,
          3.2,
          3.227272727272727,
          3.28,
          3.2941176470588234,
          3.3333333333333335,
          3.381818181818182,
          3.3846153846153846,
          3.4,
          3.432,
          3.4423076923076925,
          3.5833333333333335,
          3.6307692307692307,
          3.6875,
          3.688888888888889,
          3.7222222222222223,
          3.782608695652174,
          3.8205128205128207,
          3.857142857142857,
          3.9166666666666665,
          3.9285714285714284
         ]
        },
        {
         "marker": {
          "color": "Red"
         },
         "mode": "markers",
         "name": "Manhatten",
         "type": "scatter",
         "visible": false,
         "x": [
          "Marble Hill",
          "Tribeca",
          "Little Italy",
          "Inwood",
          "Chinatown",
          "Stuyvesant Town",
          "Nolita",
          "Greenwich Village",
          "Battery Park City",
          "Harlem",
          "Upper West Side",
          "West Village",
          "Morningside Heights",
          "Upper East Side",
          "Chelsea",
          "Washington Heights",
          "Roosevelt Island",
          "East Village",
          "Hell's Kitchen",
          "Flatiron District",
          "SoHo",
          "Gramercy",
          "Midtown",
          "Two Bridges",
          "East Harlem",
          "Lower East Side",
          "NoHo",
          "Murray Hill",
          "Kips Bay",
          "Theater District",
          "Financial District",
          "Civic Center"
         ],
         "y": [
          3,
          3.1739130434782608,
          3.176258992805755,
          3.1824817518248176,
          3.1911392405063292,
          3.216867469879518,
          3.2169811320754715,
          3.2231182795698925,
          3.2288135593220337,
          3.229601170874497,
          3.2406735751295335,
          3.247978436657682,
          3.2503937007874018,
          3.2516304347826086,
          3.2621444201312912,
          3.263069139966273,
          3.2641509433962264,
          3.2709049255441007,
          3.2807061790668346,
          3.2848101265822787,
          3.2875912408759125,
          3.3044733044733046,
          3.309439528023599,
          3.3181818181818183,
          3.318667236223836,
          3.3198151950718686,
          3.342857142857143,
          3.371875,
          3.383695652173913,
          3.4017699115044246,
          3.4221476510067115,
          3.467289719626168
         ]
        }
       ],
       "layout": {
        "font": {
         "color": "black",
         "family": "Comic Sans MS"
        },
        "legend": {
         "title": {
          "font": {
           "color": "green"
          }
         },
         "x": 0.8,
         "y": 1.42
        },
        "template": {
         "data": {
          "bar": [
           {
            "error_x": {
             "color": "#2a3f5f"
            },
            "error_y": {
             "color": "#2a3f5f"
            },
            "marker": {
             "line": {
              "color": "#E5ECF6",
              "width": 0.5
             },
             "pattern": {
              "fillmode": "overlay",
              "size": 10,
              "solidity": 0.2
             }
            },
            "type": "bar"
           }
          ],
          "barpolar": [
           {
            "marker": {
             "line": {
              "color": "#E5ECF6",
              "width": 0.5
             },
             "pattern": {
              "fillmode": "overlay",
              "size": 10,
              "solidity": 0.2
             }
            },
            "type": "barpolar"
           }
          ],
          "carpet": [
           {
            "aaxis": {
             "endlinecolor": "#2a3f5f",
             "gridcolor": "white",
             "linecolor": "white",
             "minorgridcolor": "white",
             "startlinecolor": "#2a3f5f"
            },
            "baxis": {
             "endlinecolor": "#2a3f5f",
             "gridcolor": "white",
             "linecolor": "white",
             "minorgridcolor": "white",
             "startlinecolor": "#2a3f5f"
            },
            "type": "carpet"
           }
          ],
          "choropleth": [
           {
            "colorbar": {
             "outlinewidth": 0,
             "ticks": ""
            },
            "type": "choropleth"
           }
          ],
          "contour": [
           {
            "colorbar": {
             "outlinewidth": 0,
             "ticks": ""
            },
            "colorscale": [
             [
              0,
              "#0d0887"
             ],
             [
              0.1111111111111111,
              "#46039f"
             ],
             [
              0.2222222222222222,
              "#7201a8"
             ],
             [
              0.3333333333333333,
              "#9c179e"
             ],
             [
              0.4444444444444444,
              "#bd3786"
             ],
             [
              0.5555555555555556,
              "#d8576b"
             ],
             [
              0.6666666666666666,
              "#ed7953"
             ],
             [
              0.7777777777777778,
              "#fb9f3a"
             ],
             [
              0.8888888888888888,
              "#fdca26"
             ],
             [
              1,
              "#f0f921"
             ]
            ],
            "type": "contour"
           }
          ],
          "contourcarpet": [
           {
            "colorbar": {
             "outlinewidth": 0,
             "ticks": ""
            },
            "type": "contourcarpet"
           }
          ],
          "heatmap": [
           {
            "colorbar": {
             "outlinewidth": 0,
             "ticks": ""
            },
            "colorscale": [
             [
              0,
              "#0d0887"
             ],
             [
              0.1111111111111111,
              "#46039f"
             ],
             [
              0.2222222222222222,
              "#7201a8"
             ],
             [
              0.3333333333333333,
              "#9c179e"
             ],
             [
              0.4444444444444444,
              "#bd3786"
             ],
             [
              0.5555555555555556,
              "#d8576b"
             ],
             [
              0.6666666666666666,
              "#ed7953"
             ],
             [
              0.7777777777777778,
              "#fb9f3a"
             ],
             [
              0.8888888888888888,
              "#fdca26"
             ],
             [
              1,
              "#f0f921"
             ]
            ],
            "type": "heatmap"
           }
          ],
          "heatmapgl": [
           {
            "colorbar": {
             "outlinewidth": 0,
             "ticks": ""
            },
            "colorscale": [
             [
              0,
              "#0d0887"
             ],
             [
              0.1111111111111111,
              "#46039f"
             ],
             [
              0.2222222222222222,
              "#7201a8"
             ],
             [
              0.3333333333333333,
              "#9c179e"
             ],
             [
              0.4444444444444444,
              "#bd3786"
             ],
             [
              0.5555555555555556,
              "#d8576b"
             ],
             [
              0.6666666666666666,
              "#ed7953"
             ],
             [
              0.7777777777777778,
              "#fb9f3a"
             ],
             [
              0.8888888888888888,
              "#fdca26"
             ],
             [
              1,
              "#f0f921"
             ]
            ],
            "type": "heatmapgl"
           }
          ],
          "histogram": [
           {
            "marker": {
             "pattern": {
              "fillmode": "overlay",
              "size": 10,
              "solidity": 0.2
             }
            },
            "type": "histogram"
           }
          ],
          "histogram2d": [
           {
            "colorbar": {
             "outlinewidth": 0,
             "ticks": ""
            },
            "colorscale": [
             [
              0,
              "#0d0887"
             ],
             [
              0.1111111111111111,
              "#46039f"
             ],
             [
              0.2222222222222222,
              "#7201a8"
             ],
             [
              0.3333333333333333,
              "#9c179e"
             ],
             [
              0.4444444444444444,
              "#bd3786"
             ],
             [
              0.5555555555555556,
              "#d8576b"
             ],
             [
              0.6666666666666666,
              "#ed7953"
             ],
             [
              0.7777777777777778,
              "#fb9f3a"
             ],
             [
              0.8888888888888888,
              "#fdca26"
             ],
             [
              1,
              "#f0f921"
             ]
            ],
            "type": "histogram2d"
           }
          ],
          "histogram2dcontour": [
           {
            "colorbar": {
             "outlinewidth": 0,
             "ticks": ""
            },
            "colorscale": [
             [
              0,
              "#0d0887"
             ],
             [
              0.1111111111111111,
              "#46039f"
             ],
             [
              0.2222222222222222,
              "#7201a8"
             ],
             [
              0.3333333333333333,
              "#9c179e"
             ],
             [
              0.4444444444444444,
              "#bd3786"
             ],
             [
              0.5555555555555556,
              "#d8576b"
             ],
             [
              0.6666666666666666,
              "#ed7953"
             ],
             [
              0.7777777777777778,
              "#fb9f3a"
             ],
             [
              0.8888888888888888,
              "#fdca26"
             ],
             [
              1,
              "#f0f921"
             ]
            ],
            "type": "histogram2dcontour"
           }
          ],
          "mesh3d": [
           {
            "colorbar": {
             "outlinewidth": 0,
             "ticks": ""
            },
            "type": "mesh3d"
           }
          ],
          "parcoords": [
           {
            "line": {
             "colorbar": {
              "outlinewidth": 0,
              "ticks": ""
             }
            },
            "type": "parcoords"
           }
          ],
          "pie": [
           {
            "automargin": true,
            "type": "pie"
           }
          ],
          "scatter": [
           {
            "fillpattern": {
             "fillmode": "overlay",
             "size": 10,
             "solidity": 0.2
            },
            "type": "scatter"
           }
          ],
          "scatter3d": [
           {
            "line": {
             "colorbar": {
              "outlinewidth": 0,
              "ticks": ""
             }
            },
            "marker": {
             "colorbar": {
              "outlinewidth": 0,
              "ticks": ""
             }
            },
            "type": "scatter3d"
           }
          ],
          "scattercarpet": [
           {
            "marker": {
             "colorbar": {
              "outlinewidth": 0,
              "ticks": ""
             }
            },
            "type": "scattercarpet"
           }
          ],
          "scattergeo": [
           {
            "marker": {
             "colorbar": {
              "outlinewidth": 0,
              "ticks": ""
             }
            },
            "type": "scattergeo"
           }
          ],
          "scattergl": [
           {
            "marker": {
             "colorbar": {
              "outlinewidth": 0,
              "ticks": ""
             }
            },
            "type": "scattergl"
           }
          ],
          "scattermapbox": [
           {
            "marker": {
             "colorbar": {
              "outlinewidth": 0,
              "ticks": ""
             }
            },
            "type": "scattermapbox"
           }
          ],
          "scatterpolar": [
           {
            "marker": {
             "colorbar": {
              "outlinewidth": 0,
              "ticks": ""
             }
            },
            "type": "scatterpolar"
           }
          ],
          "scatterpolargl": [
           {
            "marker": {
             "colorbar": {
              "outlinewidth": 0,
              "ticks": ""
             }
            },
            "type": "scatterpolargl"
           }
          ],
          "scatterternary": [
           {
            "marker": {
             "colorbar": {
              "outlinewidth": 0,
              "ticks": ""
             }
            },
            "type": "scatterternary"
           }
          ],
          "surface": [
           {
            "colorbar": {
             "outlinewidth": 0,
             "ticks": ""
            },
            "colorscale": [
             [
              0,
              "#0d0887"
             ],
             [
              0.1111111111111111,
              "#46039f"
             ],
             [
              0.2222222222222222,
              "#7201a8"
             ],
             [
              0.3333333333333333,
              "#9c179e"
             ],
             [
              0.4444444444444444,
              "#bd3786"
             ],
             [
              0.5555555555555556,
              "#d8576b"
             ],
             [
              0.6666666666666666,
              "#ed7953"
             ],
             [
              0.7777777777777778,
              "#fb9f3a"
             ],
             [
              0.8888888888888888,
              "#fdca26"
             ],
             [
              1,
              "#f0f921"
             ]
            ],
            "type": "surface"
           }
          ],
          "table": [
           {
            "cells": {
             "fill": {
              "color": "#EBF0F8"
             },
             "line": {
              "color": "white"
             }
            },
            "header": {
             "fill": {
              "color": "#C8D4E3"
             },
             "line": {
              "color": "white"
             }
            },
            "type": "table"
           }
          ]
         },
         "layout": {
          "annotationdefaults": {
           "arrowcolor": "#2a3f5f",
           "arrowhead": 0,
           "arrowwidth": 1
          },
          "autotypenumbers": "strict",
          "coloraxis": {
           "colorbar": {
            "outlinewidth": 0,
            "ticks": ""
           }
          },
          "colorscale": {
           "diverging": [
            [
             0,
             "#8e0152"
            ],
            [
             0.1,
             "#c51b7d"
            ],
            [
             0.2,
             "#de77ae"
            ],
            [
             0.3,
             "#f1b6da"
            ],
            [
             0.4,
             "#fde0ef"
            ],
            [
             0.5,
             "#f7f7f7"
            ],
            [
             0.6,
             "#e6f5d0"
            ],
            [
             0.7,
             "#b8e186"
            ],
            [
             0.8,
             "#7fbc41"
            ],
            [
             0.9,
             "#4d9221"
            ],
            [
             1,
             "#276419"
            ]
           ],
           "sequential": [
            [
             0,
             "#0d0887"
            ],
            [
             0.1111111111111111,
             "#46039f"
            ],
            [
             0.2222222222222222,
             "#7201a8"
            ],
            [
             0.3333333333333333,
             "#9c179e"
            ],
            [
             0.4444444444444444,
             "#bd3786"
            ],
            [
             0.5555555555555556,
             "#d8576b"
            ],
            [
             0.6666666666666666,
             "#ed7953"
            ],
            [
             0.7777777777777778,
             "#fb9f3a"
            ],
            [
             0.8888888888888888,
             "#fdca26"
            ],
            [
             1,
             "#f0f921"
            ]
           ],
           "sequentialminus": [
            [
             0,
             "#0d0887"
            ],
            [
             0.1111111111111111,
             "#46039f"
            ],
            [
             0.2222222222222222,
             "#7201a8"
            ],
            [
             0.3333333333333333,
             "#9c179e"
            ],
            [
             0.4444444444444444,
             "#bd3786"
            ],
            [
             0.5555555555555556,
             "#d8576b"
            ],
            [
             0.6666666666666666,
             "#ed7953"
            ],
            [
             0.7777777777777778,
             "#fb9f3a"
            ],
            [
             0.8888888888888888,
             "#fdca26"
            ],
            [
             1,
             "#f0f921"
            ]
           ]
          },
          "colorway": [
           "#636efa",
           "#EF553B",
           "#00cc96",
           "#ab63fa",
           "#FFA15A",
           "#19d3f3",
           "#FF6692",
           "#B6E880",
           "#FF97FF",
           "#FECB52"
          ],
          "font": {
           "color": "#2a3f5f"
          },
          "geo": {
           "bgcolor": "white",
           "lakecolor": "white",
           "landcolor": "#E5ECF6",
           "showlakes": true,
           "showland": true,
           "subunitcolor": "white"
          },
          "hoverlabel": {
           "align": "left"
          },
          "hovermode": "closest",
          "mapbox": {
           "style": "light"
          },
          "paper_bgcolor": "white",
          "plot_bgcolor": "#E5ECF6",
          "polar": {
           "angularaxis": {
            "gridcolor": "white",
            "linecolor": "white",
            "ticks": ""
           },
           "bgcolor": "#E5ECF6",
           "radialaxis": {
            "gridcolor": "white",
            "linecolor": "white",
            "ticks": ""
           }
          },
          "scene": {
           "xaxis": {
            "backgroundcolor": "#E5ECF6",
            "gridcolor": "white",
            "gridwidth": 2,
            "linecolor": "white",
            "showbackground": true,
            "ticks": "",
            "zerolinecolor": "white"
           },
           "yaxis": {
            "backgroundcolor": "#E5ECF6",
            "gridcolor": "white",
            "gridwidth": 2,
            "linecolor": "white",
            "showbackground": true,
            "ticks": "",
            "zerolinecolor": "white"
           },
           "zaxis": {
            "backgroundcolor": "#E5ECF6",
            "gridcolor": "white",
            "gridwidth": 2,
            "linecolor": "white",
            "showbackground": true,
            "ticks": "",
            "zerolinecolor": "white"
           }
          },
          "shapedefaults": {
           "line": {
            "color": "#2a3f5f"
           }
          },
          "ternary": {
           "aaxis": {
            "gridcolor": "white",
            "linecolor": "white",
            "ticks": ""
           },
           "baxis": {
            "gridcolor": "white",
            "linecolor": "white",
            "ticks": ""
           },
           "bgcolor": "#E5ECF6",
           "caxis": {
            "gridcolor": "white",
            "linecolor": "white",
            "ticks": ""
           }
          },
          "title": {
           "x": 0.05
          },
          "xaxis": {
           "automargin": true,
           "gridcolor": "white",
           "linecolor": "white",
           "ticks": "",
           "title": {
            "standoff": 15
           },
           "zerolinecolor": "white",
           "zerolinewidth": 2
          },
          "yaxis": {
           "automargin": true,
           "gridcolor": "white",
           "linecolor": "white",
           "ticks": "",
           "title": {
            "standoff": 15
           },
           "zerolinecolor": "white",
           "zerolinewidth": 2
          }
         }
        },
        "title": {
         "font": {
          "color": "red",
          "family": "Comic Sans MS"
         },
         "x": 0.5,
         "xanchor": "center",
         "y": 0.9,
         "yanchor": "top"
        },
        "updatemenus": [
         {
          "buttons": [
           {
            "args": [
             {
              "visible": [
               true,
               true,
               true,
               true,
               true,
               false,
               false,
               false,
               false,
               false
              ]
             },
             {
              "title": "Average Price of an Airbnb per Neighbourhood Group"
             }
            ],
            "label": "Price",
            "method": "update"
           }
          ],
          "direction": "left",
          "type": "buttons",
          "x": 0.16,
          "y": 1.2
         },
         {
          "buttons": [
           {
            "args": [
             {
              "visible": [
               false,
               false,
               false,
               false,
               false,
               true,
               true,
               true,
               true,
               true
              ]
             },
             {
              "title": "Average Rating of an Airbnb per Neighbourhood Group"
             }
            ],
            "label": "Rating",
            "method": "update"
           }
          ],
          "direction": "left",
          "type": "buttons",
          "x": 0.1,
          "y": 1.2
         }
        ],
        "xaxis": {
         "tickvals": [
          0,
          11,
          22,
          28,
          46,
          70,
          80,
          93,
          108,
          131,
          139,
          159,
          164,
          170,
          183,
          190,
          195
         ]
        }
       }
      }
     },
     "metadata": {},
     "output_type": "display_data"
    }
   ],
   "source": [
    "\n",
    "fig = go.Figure()\n",
    "fig.add_trace(\n",
    "    go.Scatter(x = list(sorted_dict_Brook.keys()),\n",
    "               y = list(sorted_dict_Brook.values()),\n",
    "               name=\"Brooklyn\",\n",
    "               mode='markers',\n",
    "               marker=dict(\n",
    "            color='LightSkyBlue'\n",
    "            )\n",
    "        ))\n",
    "fig.add_trace(\n",
    "    go.Scatter(x = list(sorted_dict_Queens.keys()),\n",
    "               y = list(sorted_dict_Queens.values()),\n",
    "               name=\"Queens\",\n",
    "               mode='markers',\n",
    "               marker=dict(\n",
    "            color='Purple',\n",
    "            )\n",
    "        ))\n",
    "fig.add_trace(\n",
    "    go.Scatter(x = list(sorted_dict_Bronx.keys()),\n",
    "               y = list(sorted_dict_Bronx.values()),\n",
    "               name=\"Bronx\",\n",
    "               mode='markers',\n",
    "               marker=dict(\n",
    "            color='orange',\n",
    "            )\n",
    "        ))\n",
    "fig.add_trace(\n",
    "    go.Scatter(x = list(sorted_dict_Stat.keys()),\n",
    "               y = list(sorted_dict_Stat.values()),\n",
    "               name=\"Staten Island\",\n",
    "               mode='markers',\n",
    "               marker=dict(\n",
    "            color='Green',\n",
    "            )\n",
    "        ))\n",
    "fig.add_trace(\n",
    "    go.Scatter(x = list(sorted_dict_Man.keys()),\n",
    "               y = list(sorted_dict_Man.values()),\n",
    "               name=\"Manhatten\",\n",
    "               mode='markers',\n",
    "               marker=dict(\n",
    "            color='Red',\n",
    "            )\n",
    "        ))\n",
    "fig.add_trace(\n",
    "    go.Scatter(x = list(sorted_rating_Brook.keys()),\n",
    "               y = list(sorted_rating_Brook.values()),\n",
    "               name=\"Brooklyn\",\n",
    "               mode='markers',\n",
    "               marker=dict(\n",
    "            color='LightSkyBlue',\n",
    "            ),\n",
    "                         visible=False\n",
    "        ))\n",
    "fig.add_trace(\n",
    "    go.Scatter(x = list(sorted_rating_Queens.keys()),\n",
    "               y = list(sorted_rating_Queens.values()),\n",
    "               name=\"Queens\",\n",
    "               mode='markers',\n",
    "               marker=dict(\n",
    "            color='Purple',\n",
    "            ),\n",
    "                         visible=False\n",
    "        ))\n",
    "fig.add_trace(\n",
    "    go.Scatter(x = list(sorted_rating_Bronx.keys()),\n",
    "               y = list(sorted_rating_Bronx.values()),\n",
    "               name=\"Bronx\",\n",
    "               mode='markers',\n",
    "               marker=dict(\n",
    "            color='orange',\n",
    "            ),\n",
    "            visible=False\n",
    "        ))\n",
    "fig.add_trace(\n",
    "    go.Scatter(x = list(sorted_rating_Stat.keys()),\n",
    "               y = list(sorted_rating_Stat.values()),\n",
    "               name=\"Staten Island\",\n",
    "               mode='markers',\n",
    "               marker=dict(\n",
    "            color='Green',\n",
    "            ),\n",
    "            visible=False\n",
    "        ))\n",
    "fig.add_trace(\n",
    "    go.Scatter(x = list(sorted_rating_Man.keys()),\n",
    "               y = list(sorted_rating_Man.values()),\n",
    "               name=\"Manhatten\",\n",
    "               mode='markers',\n",
    "               marker=dict(\n",
    "            color='Red',\n",
    "            ),\n",
    "            visible=False\n",
    "        ))\n",
    "fig.update_layout(\n",
    "    title={\n",
    "        'y':0.9,\n",
    "        'x':0.5,\n",
    "        'xanchor': 'center',\n",
    "        'yanchor': 'top'},\n",
    "   font_family='Comic Sans MS',\n",
    "   font_color=\"black\",\n",
    "   title_font_family=\"Comic Sans MS\",\n",
    "   title_font_color=\"red\",\n",
    "   legend_title_font_color=\"green\",\n",
    "   updatemenus=[\n",
    "        dict(\n",
    "            type=\"buttons\",\n",
    "            direction=\"left\",\n",
    "            x=0.16,\n",
    "            y = 1.2,\n",
    "            buttons=list([\n",
    "                dict(\n",
    "                  label = \"Price\", method = \"update\",\n",
    "                  args = [{\"visible\": [True, True, True, True, True, False, False, False, False, False]},{\"title\": 'Average Price of an Airbnb per Neighbourhood Group'} ]\n",
    "                )\n",
    "            ]),\n",
    "        ), \n",
    "        dict(\n",
    "            type=\"buttons\",\n",
    "            direction=\"left\",\n",
    "            x=0.1,\n",
    "            y = 1.2,\n",
    "            buttons=list([\n",
    "               dict(\n",
    "                  label = \"Rating\", method = \"update\",\n",
    "                  args = [{\"visible\": [False, False, False, False, False, True, True, True, True, True]},{\"title\": 'Average Rating of an Airbnb per Neighbourhood Group'} ]\n",
    "               )\n",
    "            ]),\n",
    "        )\n",
    "    ])\n",
    "fig.update_layout(\n",
    "    xaxis = dict(\n",
    "        #tickmode = 'array',\n",
    "        tickvals = [0, 11, 22, 28, 46, 70, 80, 93, 108, 131, 139, 159, 164, 170, 183, 190, 195],\n",
    "    ),\n",
    "    legend=dict(\n",
    "    x=0.8,\n",
    "    y=1.42,\n",
    "    ))\n",
    "    \n",
    "fig.show(config = {'displayModeBar': False})\n",
    "fig.write_html(\"All Neighbourhoods.html\")"
   ]
  }
 ],
 "metadata": {
  "kernelspec": {
   "display_name": "base",
   "language": "python",
   "name": "python3"
  },
  "language_info": {
   "codemirror_mode": {
    "name": "ipython",
    "version": 3
   },
   "file_extension": ".py",
   "mimetype": "text/x-python",
   "name": "python",
   "nbconvert_exporter": "python",
   "pygments_lexer": "ipython3",
   "version": "3.11.3"
  },
  "orig_nbformat": 4
 },
 "nbformat": 4,
 "nbformat_minor": 2
}
